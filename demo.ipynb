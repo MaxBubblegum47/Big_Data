{
 "cells": [
  {
   "cell_type": "code",
   "execution_count": 1,
   "id": "31703be3",
   "metadata": {},
   "outputs": [
    {
     "name": "stdout",
     "output_type": "stream",
     "text": [
      "Requirement already satisfied: pymongo in c:\\users\\loren\\anaconda3\\lib\\site-packages (4.3.2)\n",
      "Requirement already satisfied: dnspython<3.0.0,>=1.16.0 in c:\\users\\loren\\anaconda3\\lib\\site-packages (from pymongo) (2.2.1)\n",
      "Note: you may need to restart the kernel to use updated packages.\n"
     ]
    }
   ],
   "source": [
    "pip install pymongo"
   ]
  },
  {
   "cell_type": "markdown",
   "id": "1c0c893c",
   "metadata": {},
   "source": [
    "Una volta installata la libreria pymongo, si procede con la connessione al nostro database. Attraverso i campi: server, database e collection, ci si collega al database scelto. "
   ]
  },
  {
   "cell_type": "code",
   "execution_count": 2,
   "id": "7702891d",
   "metadata": {},
   "outputs": [],
   "source": [
    "import pymongo\n",
    "import datetime\n",
    "\n",
    "# MongoDB Server and Database Data\n",
    "server = \"mongodb://localhost:27017/\"\n",
    "database = \"City\"\n",
    "collection = \"City_Inspections_DB\""
   ]
  },
  {
   "cell_type": "markdown",
   "id": "e9b3f9fc",
   "metadata": {},
   "source": [
    "Di seguito le prime funzioni con cui avviene effettivamente la connessione"
   ]
  },
  {
   "cell_type": "code",
   "execution_count": 3,
   "id": "bf6f0a9a",
   "metadata": {},
   "outputs": [],
   "source": [
    "def connect():\n",
    "  myclient = pymongo.MongoClient(server)\n",
    "  mydb = myclient[database]\n",
    "  mycol = mydb[collection]\n",
    "  return mycol"
   ]
  },
  {
   "cell_type": "markdown",
   "id": "b6e1459d",
   "metadata": {},
   "source": [
    "Queste sono funzioni di inserimento e aggiornamento dei dati all'interno del database"
   ]
  },
  {
   "cell_type": "code",
   "execution_count": 4,
   "id": "87f8d359",
   "metadata": {},
   "outputs": [],
   "source": [
    "def insert(mycol):\n",
    "  inspection = {\"id\" : \"00000-0000-ENFO\", \"certificate_number\" : \"17041999\", \"business_name\" : \"Videogames Center\",\n",
    "  \"date\" : \"1999-4-17\", \"result\" : \"Fail\", \"sector\" : \"Videogames\", \"address\" : {\"city\" : \"Georgia\",\n",
    "  \"zip\" : \"41030\", \"street\" : \"Rue de Baptiste\", \"number\" : \"19\"}}  \n",
    "  mycol.insert_one(inspection)\n",
    "  \n",
    "\n",
    "def update(mycol):\n",
    "  mycol.update_one({\"id\":\"00000-0000-ENFO\"},{\"$set\":{\"Inspector Name\":\"Lorenzo Stigliano\"}}, upsert=False)"
   ]
  },
  {
   "cell_type": "markdown",
   "id": "4bf27b1b",
   "metadata": {},
   "source": [
    "Queste che seguono sono 3 interrogazioni rappresentative delle potenzialità. All'interno della prima abbiamo una interrogazione riguardo il periodo che comprende 2015-1-1 e 2015-6-30 (year-month-day) e considera tutte le ispezioni che sono risultate come \"Fail\" o \"Violation Issued\", fatte a New York a Frederick Douglass Boulevard. Il risultato è stato poi ordinato in base al nome della attività e sono stati stampati solamente i nomi delle attività."
   ]
  },
  {
   "cell_type": "markdown",
   "id": "1592d02b",
   "metadata": {},
   "source": [
    "Nella seguente interrogazione vengono invece presi gli oggetti che hanno due determinati zip code: 10030 e 11373 e si selezionano inoltre solamente quelli che hanno come settore quello della vendita ambulante di cibo. Fatto ciò si crea un gruppo con id dell'oggetto e nome dell'attività, si effettua un unwind su questo gruppo e si ordina il risultato in ordine alfabetico crescente."
   ]
  },
  {
   "cell_type": "markdown",
   "id": "36feb280",
   "metadata": {},
   "source": [
    "Per questa interrogazione si prendono invece gli oggetti appartenenti alla città con il seguente zip code: 11234 e si selezionano le attività che lavorano nel settore del \"Cigarette Retail Dealer\" all'interno della finestra temporale che intercorre tra il 2016-1-1 e il 2016-4-30. Di questi si crea un gruppo basato sull'id dell'oggetto, il nome della via in cui risiede l'attività e il nome stesso dell'attività. Il gruppo viene sottoposto ad una operazione di unwind che permette di effettuare infine un sort sulla somma delle attività con le caratteristiche sopra citate, per ogni via (address.street)."
   ]
  },
  {
   "cell_type": "code",
   "execution_count": 8,
   "id": "d60a9ed8",
   "metadata": {},
   "outputs": [],
   "source": [
    "def query(mycol):\n",
    "    print(\"First Query:\\n\")\n",
    "    result = mycol.find({\"date\" : {\"$gte\":\"2015-1-1\", \"$lte\":\"2015-6-30\"}, \"result\" : {\"$in\" : [\"Fail\", \"Violation Issued\"]}, \n",
    "                        \"$and\" : [{\"address.city\" : \"NEW YORK\"}, {\"address.street\" : \"FREDERICK DOUGLASS BLVD\"}]}).sort(\"business_name\").distinct(\"business_name\")\n",
    "\n",
    "    for x in result:\n",
    "      print(x)  \n",
    "\n",
    "    print(\"\\n------------------------------------------------------------------\\n\")\n",
    "    \n",
    "    query = [\n",
    "      {\"$match\" : {\"address.zip\" : {\"$in\" : [10030, 11373]}}},\n",
    "      {\"$match\" : {\"sector\" : \"Mobile Food Vendor - 881\"}},\n",
    "      {\"$group\" : {'_id': '$id', 'inspected_business': {'$addToSet': '$business_name'}}},\n",
    "      {\"$unwind\" : \"$inspected_business\"},\n",
    "      {'$sort': {'inspected_business': 1}}\n",
    "    ]\n",
    "\n",
    "    print(\"Second Query:\\n\")\n",
    "\n",
    "    result = mycol.aggregate(query)\n",
    "\n",
    "    for x in result:\n",
    "      print(x)\n",
    "    \n",
    "    print(\"\\n------------------------------------------------------------------\\n\")\n",
    "    \n",
    "    query = [\n",
    "      {\"$match\" : {\"address.zip\" : 11234, \"sector\" : \"Cigarette Retail Dealer - 127\", \"date\" : {\"$gte\":\"2016-1-1\", \"$lte\":\"2016-4-30\"}}},\n",
    "      {\"$group\" : { \"_id\" : \"$id\", \"street_inspected\" : {\"$addToSet\" : '$address.street'}}},\n",
    "      {\"$unwind\" : \"$street_inspected\"},                \n",
    "      {'$group': {'_id': '$street_inspected', 'count': { '$sum': 1}}},\n",
    "      {'$sort': {'count': 1}}\n",
    "    ]\n",
    "\n",
    "    result = mycol.aggregate(query)\n",
    "\n",
    "    print(\"Second Query:\\n\")\n",
    "\n",
    "    for x in result:\n",
    "      print(x)\n",
    "    \n",
    "    print(\"\\n------------------------------------------------------------------\\n\")"
   ]
  },
  {
   "cell_type": "markdown",
   "id": "ec8965c2",
   "metadata": {},
   "source": [
    "Di seguito la funzione main"
   ]
  },
  {
   "cell_type": "code",
   "execution_count": 9,
   "id": "8a2debf8",
   "metadata": {},
   "outputs": [
    {
     "name": "stdout",
     "output_type": "stream",
     "text": [
      "Trying to connect to: mongodb://localhost:27017/\n",
      "OK\n",
      "\n",
      "Inserting new object inside: City_Inspections_DB\n",
      "OK\n",
      "\n",
      "Updating the collection: City_Inspections_DB\n",
      "OK\n",
      "\n",
      "Queries on collection: City_Inspections_DB\n",
      "First Query:\n",
      "\n",
      "148 DELI GROCERY, INC.\n",
      "2117 8TH AVENUE LAUNDROMAT CORP.\n",
      "2268 DELI & GROCERY INC.\n",
      "ABDOU KINGS DELI INC.\n",
      "ABREU, CATALINO\n",
      "ANAN GOURMET DELI CORP.\n",
      "APOLLO DELI & FRUIT CORP.\n",
      "AVON PRODUCTS, INC.\n",
      "AZAL GROCERY STORE INC\n",
      "BEST YET MARKET OF HARLEM, INC.\n",
      "BIER INTERNATIONAL, LLC\n",
      "BIG APPLE 2 DELI INC.\n",
      "Best Market\n",
      "CATALINO ABREU\n",
      "CJ PARK FOODS INC\n",
      "CMC NAIL & SPA\n",
      "COUMBA DIARRA GUEYE\n",
      "ELHADJ M BARRY\n",
      "EVERGREEN CLEANERS 144 ST INC.\n",
      "EXPRESS IVOIR - TOUBALO\n",
      "FELDER & SONS, INC.\n",
      "FINE FARE SUPERMARKET\n",
      "FREDERICK DOUGLAS FURNITURE\n",
      "L S MOBILE INC.\n",
      "LD BUSINESS SOLUTIONS\n",
      "LEGACY CLEANERS INC.\n",
      "LEGACY WIRELESS INC.\n",
      "MELO AND FALCON DELI GROCERY CORP.\n",
      "N&A FOOD MARKET CORP\n",
      "N.H.A. DELI GROCERY STORE, INC.\n",
      "NEW BETTY BRITE CLEANERS, INC.\n",
      "NYC CANDY STORE SHOP CORP\n",
      "POLO GROUNDS MEAT CORP.\n",
      "RED LORRY YELLOW LORRY MOVING INC\n",
      "THE GOLDEN SCISSORS\n",
      "THE NAIL SPOT\n",
      "TRUE VALUE DISCOUNT LLC\n",
      "UNITED GOURMET GROCERY INC\n",
      "WEST 153 FOOD CENTER INC\n",
      "\n",
      "------------------------------------------------------------------\n",
      "\n",
      "Second Query:\n",
      "\n",
      "{'_id': '33239-2015-ENFO', 'inspected_business': 'ABDUS KAZI'}\n",
      "{'_id': '33723-2015-ENFO', 'inspected_business': 'ABDUS KAZI'}\n",
      "{'_id': '55266-2015-ENFO', 'inspected_business': 'AHMAD WALEED'}\n",
      "{'_id': '31096-2015-ENFO', 'inspected_business': 'AHMED ATM FARUQUE'}\n",
      "{'_id': '22827-2015-ENFO', 'inspected_business': 'AHMED MOHAMED'}\n",
      "{'_id': '33200-2015-ENFO', 'inspected_business': 'ALI MD'}\n",
      "{'_id': '30022-2015-ENFO', 'inspected_business': 'ALI, SAFWAT E'}\n",
      "{'_id': '29725-2015-ENFO', 'inspected_business': 'ANWAR HOSSAIN'}\n",
      "{'_id': '61395-2015-ENFO', 'inspected_business': 'ANWAR HOSSAIN'}\n",
      "{'_id': '52699-2015-ENFO', 'inspected_business': 'ARAFAT RAHAMAN'}\n",
      "{'_id': '20754-2015-ENFO', 'inspected_business': 'BISHWANATH BISWAS'}\n",
      "{'_id': '9663-2015-ENFO', 'inspected_business': 'BISHWANATH BISWAS'}\n",
      "{'_id': '10318-2015-ENFO', 'inspected_business': 'BISHWANATH BISWAS'}\n",
      "{'_id': '35980-2015-ENFO', 'inspected_business': 'CECILIA HERRERA'}\n",
      "{'_id': '49482-2015-ENFO', 'inspected_business': 'CHITTA CHOWDHURY'}\n",
      "{'_id': '646-2016-ENFO', 'inspected_business': 'CHITTA CHOWDHURY'}\n",
      "{'_id': '31939-2015-ENFO', 'inspected_business': 'ERUBIEL VASQUEZ'}\n",
      "{'_id': '39561-2015-ENFO', 'inspected_business': 'EVANGELOS BARDIS'}\n",
      "{'_id': '30345-2015-ENFO', 'inspected_business': 'FAYSUL AHMED'}\n",
      "{'_id': '72083-2015-ENFO', 'inspected_business': 'GRICELDA PEREZ'}\n",
      "{'_id': '32082-2015-ENFO', 'inspected_business': 'GYALTSO'}\n",
      "{'_id': '36282-2015-ENFO', 'inspected_business': 'HABIB NAZARWAL'}\n",
      "{'_id': '33816-2015-ENFO', 'inspected_business': 'ISHTIAA AHMED'}\n",
      "{'_id': '35718-2015-ENFO', 'inspected_business': 'JUN QIANG MEI'}\n",
      "{'_id': '58430-2015-ENFO', 'inspected_business': 'KARMA PHUNTSOK'}\n",
      "{'_id': '48999-2015-ENFO', 'inspected_business': 'KAZAL SARKAR'}\n",
      "{'_id': '31583-2015-ENFO', 'inspected_business': 'KAZI M AMIND'}\n",
      "{'_id': '31399-2015-ENFO', 'inspected_business': 'KHONDOKER RAFIQ ISHAM'}\n",
      "{'_id': '30865-2015-ENFO', 'inspected_business': 'MAHABUBUL KHAN'}\n",
      "{'_id': '34405-2015-ENFO', 'inspected_business': 'MARIA CUZCO'}\n",
      "{'_id': '31501-2015-ENFO', 'inspected_business': 'MD ALAM'}\n",
      "{'_id': '37886-2015-ENFO', 'inspected_business': 'MD ALI'}\n",
      "{'_id': '56970-2015-ENFO', 'inspected_business': 'MD HAQUE'}\n",
      "{'_id': '23676-2015-ENFO', 'inspected_business': 'MD MOAZZEM HOSSAIN'}\n",
      "{'_id': '31102-2015-ENFO', 'inspected_business': 'MOHAMMAD O FARUQ'}\n",
      "{'_id': '72056-2015-ENFO', 'inspected_business': 'MOHAMMED ALI'}\n",
      "{'_id': '31923-2015-ENFO', 'inspected_business': 'MOSTAQUE AHMED'}\n",
      "{'_id': '68202-2015-ENFO', 'inspected_business': 'MOSTAQUE, AHMED'}\n",
      "{'_id': '32149-2015-ENFO', 'inspected_business': 'NABIL RADIF'}\n",
      "{'_id': '37737-2015-ENFO', 'inspected_business': 'PHUNTSOK KARMA'}\n",
      "{'_id': '37603-2015-ENFO', 'inspected_business': 'PRANTUSH DAS'}\n",
      "{'_id': '34538-2015-ENFO', 'inspected_business': 'PRANTUSH DAS'}\n",
      "{'_id': '31960-2015-ENFO', 'inspected_business': 'RAHMAN MD MAMUNUR'}\n",
      "{'_id': '31475-2015-ENFO', 'inspected_business': 'RAHMAN MD MAMUNUR'}\n",
      "{'_id': '31645-2015-ENFO', 'inspected_business': 'ROSA BERMEO'}\n",
      "{'_id': '11929-2015-CMPL', 'inspected_business': 'SAIFULI MONJU'}\n",
      "{'_id': '52526-2015-ENFO', 'inspected_business': 'SHAMIDUL ALARM'}\n",
      "{'_id': '33621-2015-ENFO', 'inspected_business': 'VINCENTA HERRERA'}\n",
      "{'_id': '32115-2015-ENFO', 'inspected_business': 'WESER DORJEE'}\n",
      "\n",
      "------------------------------------------------------------------\n",
      "\n",
      "Second Query:\n",
      "\n",
      "{'_id': 'KINGS HWY', 'count': 1}\n",
      "{'_id': 'GLENWOOD RD', 'count': 2}\n",
      "{'_id': 'FLATLANDS AVE', 'count': 2}\n",
      "{'_id': 'AVENUE H', 'count': 2}\n",
      "{'_id': 'UTICA AVE', 'count': 2}\n",
      "{'_id': 'AVENUE N', 'count': 3}\n",
      "\n",
      "------------------------------------------------------------------\n",
      "\n"
     ]
    }
   ],
   "source": [
    "def main():\n",
    "  # connect\n",
    "  print(\"Trying to connect to: \" + str(server))\n",
    "  mycol = connect()\n",
    "  print(\"OK\\n\")\n",
    "\n",
    "  # insert\n",
    "  print(\"Inserting new object inside: \" + str(collection))\n",
    "  insert(mycol)\n",
    "  print(\"OK\\n\")\n",
    "  \n",
    "  # update\n",
    "  print(\"Updating the collection: \" + str(collection))\n",
    "  update(mycol)\n",
    "  print(\"OK\\n\")\n",
    "  \n",
    "  # query\n",
    "  print(\"Queries on collection: \" + str(collection))\n",
    "  query(mycol)\n",
    "\n",
    "  \n",
    "\n",
    "if __name__ == \"__main__\":\n",
    "  main()"
   ]
  },
  {
   "cell_type": "code",
   "execution_count": null,
   "id": "bf797ecd",
   "metadata": {},
   "outputs": [],
   "source": []
  }
 ],
 "metadata": {
  "kernelspec": {
   "display_name": "Python 3 (ipykernel)",
   "language": "python",
   "name": "python3"
  },
  "language_info": {
   "codemirror_mode": {
    "name": "ipython",
    "version": 3
   },
   "file_extension": ".py",
   "mimetype": "text/x-python",
   "name": "python",
   "nbconvert_exporter": "python",
   "pygments_lexer": "ipython3",
   "version": "3.9.12"
  }
 },
 "nbformat": 4,
 "nbformat_minor": 5
}
