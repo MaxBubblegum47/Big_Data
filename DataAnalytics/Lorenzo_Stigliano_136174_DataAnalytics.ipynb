{
 "cells": [
  {
   "cell_type": "markdown",
   "id": "37ff1a33",
   "metadata": {},
   "source": [
    "# Attività Data Analytics \n",
    "\n",
    "## Analisi livelli tossicodipendenze nel continente europeo e del loro rapporto con la società\n",
    "\n",
    "## Lorenzo Stigliano\n",
    "\n",
    "### Introduzione\n",
    "\n",
    "qui devo fare una introduzione sulla storia delle droghe e il rapporto con l'umanità\n",
    "\n",
    "Il rapporto che lega l'umanità alle droghe/sostanze psico attive, ha radici molto profonde; si intende cannobinoidi, oppiodi, oppiace, ecstasy e stimolanti diversi da teina, caffeina e alcol. \n",
    "\n",
    "In passato se ne faceva un uso rituale, ascetico, per avvicinarsi ad uno stato di primordiale connessione con le divinità. Se ne conscevano gli aspetti benifici in alcune culture, come quella orientale, ma al cambiare delle epoche storiche hanno subito processi di demonizazzione e accettazione a più riprese; in taluni periodi l'utilizzo delle droghe è stato completamente bandito mentre in altri è stato concesso un utilizzo più o meno massiccio di queste ultime. La questione è dipese da una miriade di fattori: interessi economici, religiosi, quasi mai realmente sociali, perché la questione non è mai stat affrontata dal punto di vista del: perché le persone arrivano ad usare questo tipo di sostanze e come possiamo fare per evitare che il loro uso degeneri in una mania? Quanto a: \"come possiamo impedire alla persone di fare uso di queste sostenze? Come possimao disincentivare taluni atteggiamenti?\"\n",
    "\n",
    "Si è cercato sempre di affrontare il problema partendo dalla eliminazione sistematica del caso peggiore: il tossicodipendente. Nell'immaginario collettivo un soggetto del genere è associata a quello di un nulla tenente che vive di espedienti per potersi procurare ogni giorno la dose successiva e magari non ha una dimora, vive ai margini della società ed ha un atteggiamento parassitario nei confronti dell'ambiente che lo circonda.\n",
    "Non si è mai lavorato sul rapporto con le droghe presupponendo che queste non siano una influenza da cui si può guarire con una medicina mirata al problema, quanto più un male di vivere che aleggia tra le persone che ci circondano e che può emergere in atteggiamenti tossicodipendenti.\n",
    "\n",
    "Questa relazione cerca di dare analizzare la questione della tossicodipendenza all'interno di molti degli stati appartenenti al continente europeo analizzando dati relativi al consumo e ai crimini commessi in relazioni alle droghe (spaccio, possesso illecito, coltivazione, ...), in combinazione con dati relativi ai livelli di istruzione di un determinato paese.\n",
    "\n",
    "L'intento è quello di evidenziare come la relazione tra i livelli di istruzione di un paese e la percentuale di persone che fanno uso di droga o addirittura il numero di crimini commessi relativi a tale sostanze non è assolutamente proporzionale. Osserveremo come alcuni paesi hanno un altisismo consumo e al tempo stesso un basso numero di crimini, o viceversa e di come questi dati si leghino a quelli dell'istruzione, determinando delle situazione di forte eterogeneità, abbattendo lo stereotipo di stato balordo, tossico, nulla facente.\n"
   ]
  },
  {
   "cell_type": "markdown",
   "id": "842b8658",
   "metadata": {},
   "source": [
    "### Collezione dei dati\n",
    "\n",
    "Spiega come hai raccolto i dati dalle varie fonti e come funzionano le varie fonti"
   ]
  },
  {
   "cell_type": "code",
   "execution_count": null,
   "id": "b5d04b15",
   "metadata": {},
   "outputs": [],
   "source": []
  },
  {
   "cell_type": "code",
   "execution_count": null,
   "id": "5c0a16c1",
   "metadata": {},
   "outputs": [],
   "source": []
  }
 ],
 "metadata": {
  "kernelspec": {
   "display_name": "Python 3 (ipykernel)",
   "language": "python",
   "name": "python3"
  },
  "language_info": {
   "codemirror_mode": {
    "name": "ipython",
    "version": 3
   },
   "file_extension": ".py",
   "mimetype": "text/x-python",
   "name": "python",
   "nbconvert_exporter": "python",
   "pygments_lexer": "ipython3",
   "version": "3.9.13"
  }
 },
 "nbformat": 4,
 "nbformat_minor": 5
}
