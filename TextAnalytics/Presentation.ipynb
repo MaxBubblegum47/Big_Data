{
 "cells": [
  {
   "attachments": {},
   "cell_type": "markdown",
   "metadata": {},
   "source": [
    "# Genre Prediction Based on Lyrics"
   ]
  },
  {
   "attachments": {},
   "cell_type": "markdown",
   "metadata": {},
   "source": [
    "## Introduzione\n",
    "La relazione si pone l'obiettivo di definire un predittore di genere musicale basato su lyrics (testi delle canzoni). Il dataset utilizzato è una istanza di https://tmthyjames.github.io/2018/january/Cypher/ (Cypher, https://github.com/tmthyjames/cypher). Il progetto è attualmente dismesso, ma è possibile reperire in rete alcune istanze (tipicamente da altri progetti github). Il dataset consiste in un documento in formato CSV in cui sono presenti informazioni riguardo brani musicali di vari generi: titolo, cantante, album, genere, etc. ... Su tale dataset si sviluppa l'allenamento del modello di machine learning ed i relativi test di verifica dell'apprendimento. Una volta allenata la rete neurale si proveranno ad affettuare una serie di predizioni con nuovi brani e verranno verificati i risultati.\n",
    "\n",
    "Contenuto\n",
    "- Caricamento dei Dati\n",
    "- Processamento dei dati\n",
    "- Allenamento del Modello\n",
    "- Analisi e Test\n",
    "\n",
    "#### Prerequisiti\n",
    "Una lista di librerie necessarie al corretto funzionamento del notebook:\n",
    "- pandas\n",
    "- numpy\n",
    "- sklearn\n",
    "- random"
   ]
  },
  {
   "attachments": {},
   "cell_type": "markdown",
   "metadata": {},
   "source": [
    "## Caricamento dei Dati - OK\n",
    "Per caricare i dati in formato csv all'interno del programma si utilizza pandas, in particolare il metodo __read_csv__ andando a creare un oggetto denominato dataframe. Ai fini di poter raggruppare alcuni dei sottogeneri o derivati del genere rock è stato creato un alias chiamato _alt rock_ che raggruppa: screamo, punk rock ed heavy metal."
   ]
  },
  {
   "cell_type": "code",
   "execution_count": 88,
   "metadata": {},
   "outputs": [
    {
     "name": "stderr",
     "output_type": "stream",
     "text": [
      "/tmp/ipykernel_885560/429835627.py:4: DtypeWarning: Columns (2,5,11,14) have mixed types. Specify dtype option on import or set low_memory=False.\n",
      "  df = pd.read_csv('lyrics.csv', on_bad_lines='skip')\n"
     ]
    }
   ],
   "source": [
    "import pandas as pd\n",
    "import numpy as np\n",
    "\n",
    "df = pd.read_csv('lyrics.csv', on_bad_lines='skip')\n",
    "\n",
    "df['ranker_genre'] = np.where(\n",
    "    (df['ranker_genre'] == 'screamo')|\n",
    "    (df['ranker_genre'] == 'punk rock')|\n",
    "    (df['ranker_genre'] == 'heavy metal'), \n",
    "    'alt rock', \n",
    "    df['ranker_genre']\n",
    ")"
   ]
  },
  {
   "cell_type": "markdown",
   "metadata": {},
   "source": []
  },
  {
   "attachments": {},
   "cell_type": "markdown",
   "metadata": {},
   "source": [
    "In Una volta definito il dataframe si procede con il raggruppamento sulle seguenti: _song_, _year_, _album_, _genre_, _artist_, *ranker_genre*. Si applicano poi vari metodi che anticipano la seguente fase di preprocessing sui titoli delle canzoni, andando ad effettuare il lowering (transformazione da caratteri in maiuscolo in minuscolo), rimozione di caratteri non necessari e operazioni di _join_ su spazi bianchi."
   ]
  },
  {
   "cell_type": "code",
   "execution_count": 89,
   "metadata": {},
   "outputs": [
    {
     "name": "stderr",
     "output_type": "stream",
     "text": [
      "/tmp/ipykernel_885560/602755275.py:11: FutureWarning: The default value of regex will change from True to False in a future version.\n",
      "  lyrics_by_song[\"lyric\"] = lyrics_by_song['lyric'].str.replace(r'[^\\w\\s]','')\n"
     ]
    }
   ],
   "source": [
    "# group creation\n",
    "group = ['song', 'year', 'album', 'genre', 'artist', 'ranker_genre']\n",
    "\n",
    "# fixing the name of the song\n",
    "lyrics_by_song = df.sort_values(group)\\\n",
    "        .groupby(group).lyric\\\n",
    "        .apply(' '.join)\\\n",
    "        .apply(lambda x: x.lower())\\\n",
    "        .reset_index(name='lyric')\n",
    "\n",
    "lyrics_by_song[\"lyric\"] = lyrics_by_song['lyric'].str.replace(r'[^\\w\\s]','')"
   ]
  },
  {
   "attachments": {},
   "cell_type": "markdown",
   "metadata": {},
   "source": [
    "Si selezionano i generi musicali che si desiderano andare ad esplorare e quante canzoni per ciascun genere andare a raccogliere. Fatto ciò si definisce un minimo di caratteri che verrà utilizzato per evitare di considerare tutte le canzoni con una lyrics non sufficiente in termini di densità di parole. Così facendo si generano i dataset che successivamente verranno utilizzati all'interno della fase di testing. "
   ]
  },
  {
   "cell_type": "code",
   "execution_count": 90,
   "metadata": {},
   "outputs": [
    {
     "name": "stderr",
     "output_type": "stream",
     "text": [
      "/tmp/ipykernel_885560/2988653634.py:29: FutureWarning: The frame.append method is deprecated and will be removed from pandas in a future version. Use pandas.concat instead.\n",
      "  train_df = train_df.append(train_set) # append subsets to the master sets\n",
      "/tmp/ipykernel_885560/2988653634.py:30: FutureWarning: The frame.append method is deprecated and will be removed from pandas in a future version. Use pandas.concat instead.\n",
      "  test_df = test_df.append(test_set)\n",
      "/tmp/ipykernel_885560/2988653634.py:29: FutureWarning: The frame.append method is deprecated and will be removed from pandas in a future version. Use pandas.concat instead.\n",
      "  train_df = train_df.append(train_set) # append subsets to the master sets\n",
      "/tmp/ipykernel_885560/2988653634.py:30: FutureWarning: The frame.append method is deprecated and will be removed from pandas in a future version. Use pandas.concat instead.\n",
      "  test_df = test_df.append(test_set)\n",
      "/tmp/ipykernel_885560/2988653634.py:29: FutureWarning: The frame.append method is deprecated and will be removed from pandas in a future version. Use pandas.concat instead.\n",
      "  train_df = train_df.append(train_set) # append subsets to the master sets\n",
      "/tmp/ipykernel_885560/2988653634.py:30: FutureWarning: The frame.append method is deprecated and will be removed from pandas in a future version. Use pandas.concat instead.\n",
      "  test_df = test_df.append(test_set)\n"
     ]
    }
   ],
   "source": [
    "from sklearn.utils import shuffle\n",
    "from nltk.corpus import stopwords\n",
    "import random\n",
    "\n",
    "# select genre to analyze\n",
    "genres = [\n",
    "    'pop', 'alt rock', 'Hip Hop',\n",
    "]\n",
    "\n",
    "LYRIC_LEN = 200 # each song has to be > 400 characters\n",
    "N = random.randint(1000, 3000) # random number of records to pull from each genre\n",
    "RANDOM_SEED = random.randint(200, 1000) # random seed to make results repeatable\n",
    "\n",
    "train_df = pd.DataFrame()\n",
    "test_df = pd.DataFrame()\n",
    "\n",
    "# loop over each genre\n",
    "for genre in genres: \n",
    "\n",
    "    # create a subset with the correct genre and the right lenght of the song\n",
    "    subset = lyrics_by_song[  \n",
    "        (lyrics_by_song.ranker_genre==genre) & \n",
    "        (lyrics_by_song.lyric.str.len() > LYRIC_LEN)\n",
    "    ]\n",
    "\n",
    "    # dataset creation\n",
    "    train_set = subset.sample(n=N, random_state=RANDOM_SEED, replace=True)\n",
    "    test_set = subset.drop(train_set.index)\n",
    "    train_df = train_df.append(train_set) # append subsets to the master sets\n",
    "    test_df = test_df.append(test_set)\n",
    "\n",
    "train_df = shuffle(train_df)\n",
    "test_df = shuffle(test_df)"
   ]
  },
  {
   "attachments": {},
   "cell_type": "markdown",
   "metadata": {},
   "source": [
    "Con i dataset generati possiamo andare ad effettuare il training, dopo aver applicato i seguenti metodi: `CountVectorizer` e `MultinomialNB`. In questo primo test si utilizza un metodo molto semplice bastato sul *word count* per effettuare l'allenamento; viene analizza quindi analizzata la frequenza delle parole all'interno dei testi per poter effettuare speculazioni riguardo il genere musicale."
   ]
  },
  {
   "cell_type": "code",
   "execution_count": 91,
   "metadata": {},
   "outputs": [
    {
     "data": {
      "text/plain": [
       "0.7809638554216868"
      ]
     },
     "execution_count": 91,
     "metadata": {},
     "output_type": "execute_result"
    }
   ],
   "source": [
    "from sklearn.feature_extraction.text import CountVectorizer\n",
    "from sklearn.naive_bayes import MultinomialNB\n",
    "from sklearn.pipeline import Pipeline\n",
    "\n",
    "# define our model with CountVectorizer (matrix of token counts from documents) and MulitnomialNB (Naive Bayes implementation)\n",
    "text_clf = Pipeline(\n",
    "    [('vect', CountVectorizer()),\n",
    "     ('clf', MultinomialNB(alpha=0.1))])\n",
    "\n",
    "# train our model on training data\n",
    "text_clf.fit(train_df.lyric, train_df.ranker_genre)  \n",
    "\n",
    "# score our model on testing data\n",
    "predicted = text_clf.predict(test_df.lyric)\n",
    "np.mean(predicted == test_df.ranker_genre)"
   ]
  },
  {
   "attachments": {},
   "cell_type": "markdown",
   "metadata": {},
   "source": [
    "Si può valutare di andare a migliorare il risultato ottenuto andando a utilizzare uno strumento chiamato `TfidfVectorizer`. Questo crea una matrice di valori che derivano dalla funzione *tf-idf* (term frequency-inverse document frequency) partendo da un insieme di documenti di testo.  La funzione è utilizzata come metodo per information retrieval al fine misurare l'importanza di un termine rispetto ad un documento o ad una collezione di documenti. Questa aumenta proporzionalmente al numero di volte che il termine è contenuto nel documento, ma cresce in maniera inversamente proporzionale con la frequenza del termine nella collezione. L'idea alla base di questo comportamento è di dare più importanza ai termini che compaiono nel documento, ma che in generale sono poco frequenti."
   ]
  },
  {
   "cell_type": "code",
   "execution_count": 92,
   "metadata": {},
   "outputs": [
    {
     "data": {
      "text/plain": [
       "0.7367871485943776"
      ]
     },
     "execution_count": 92,
     "metadata": {},
     "output_type": "execute_result"
    }
   ],
   "source": [
    "from sklearn.naive_bayes import MultinomialNB\n",
    "from sklearn.pipeline import Pipeline\n",
    "from sklearn.feature_extraction.text import TfidfTransformer, TfidfVectorizer\n",
    "\n",
    "# define our model\n",
    "text_clf = Pipeline(\n",
    "    [('vect', TfidfVectorizer()),\n",
    "     ('clf', MultinomialNB(alpha=0.1))])\n",
    "\n",
    "# train our model on training data\n",
    "text_clf.fit(train_df.lyric, train_df.ranker_genre)  \n",
    "\n",
    "# score our model on testing data\n",
    "predicted = text_clf.predict(test_df.lyric)\n",
    "np.mean(predicted == test_df.ranker_genre)"
   ]
  },
  {
   "attachments": {},
   "cell_type": "markdown",
   "metadata": {},
   "source": [
    "Fino ad ora è stato svolto un allenamento unicamente su lyrics che non sono stati pre-processati, ma è interessante valutare quanto metodi come: stemming, lemmatization, rimozione di stopwords, etc. ... possono andare ad influire sul risultato delle analisi. Per poter andare ad implementare questi metodi faremo uso delle possibilità offerte da `TfidfVectorizer` in termini di parametri."
   ]
  },
  {
   "cell_type": "code",
   "execution_count": 93,
   "metadata": {},
   "outputs": [
    {
     "name": "stderr",
     "output_type": "stream",
     "text": [
      "/home/maxbubblegum/.local/lib/python3.10/site-packages/sklearn/feature_extraction/text.py:528: UserWarning: The parameter 'token_pattern' will not be used since 'tokenizer' is not None'\n",
      "  warnings.warn(\n",
      "/home/maxbubblegum/.local/lib/python3.10/site-packages/sklearn/feature_extraction/text.py:409: UserWarning: Your stop_words may be inconsistent with your preprocessing. Tokenizing the stop words generated tokens ['could', 'doe', 'ha', 'might', 'must', 'need', 'sha', 'wa', 'would'] not in stop_words.\n",
      "  warnings.warn(\n"
     ]
    },
    {
     "data": {
      "text/plain": [
       "0.7806024096385542"
      ]
     },
     "execution_count": 93,
     "metadata": {},
     "output_type": "execute_result"
    }
   ],
   "source": [
    "from sklearn.naive_bayes import MultinomialNB\n",
    "from sklearn.pipeline import Pipeline\n",
    "from nltk import word_tokenize\n",
    "from nltk.stem import WordNetLemmatizer\n",
    "\n",
    "stop = list(set(stopwords.words('english'))) # stopwords\n",
    "wnl = WordNetLemmatizer() # lemmatizer\n",
    "\n",
    "def tokenizer(x): # custom tokenizer\n",
    "    return (\n",
    "        wnl.lemmatize(w) \n",
    "        for w in word_tokenize(x) \n",
    "        if len(w) > 2 and w.isalnum() # only words that are > 2 characters\n",
    "    )                                 # and is alpha-numeric\n",
    "\n",
    "# define our model\n",
    "text_clf = Pipeline(\n",
    "    [('vect', TfidfVectorizer(\n",
    "        ngram_range=(1, 2), # include bigrams\n",
    "        tokenizer=tokenizer,\n",
    "        stop_words=stop,\n",
    "        max_df=0.4, # ignore terms that appear in more than 40% of documents\n",
    "        min_df=4)), # ignore terms that appear in less than 4 documents\n",
    "     ('tfidf', TfidfTransformer()),\n",
    "     ('clf', MultinomialNB(alpha=0.1))])\n",
    "\n",
    "# train our model on training data\n",
    "text_clf.fit(train_df.lyric, train_df.ranker_genre)  \n",
    "\n",
    "# score our model on testing data\n",
    "predicted = text_clf.predict(test_df.lyric)\n",
    "np.mean(predicted == test_df.ranker_genre)"
   ]
  },
  {
   "attachments": {},
   "cell_type": "markdown",
   "metadata": {},
   "source": [
    "Con i risultati ottenuti è possibile andare a comporre una matrice di confusione per poter andare a visualizzare i risultati ottenuti in maniera grafica. Questo permette di valutare in che campi le previsioni del modello tendono a sbagliare e confondere un genere per un altro."
   ]
  },
  {
   "cell_type": "code",
   "execution_count": 94,
   "metadata": {},
   "outputs": [
    {
     "data": {
      "image/png": "[encoded data removed]",
      "text/plain": [
       "<Figure size 640x480 with 1 Axes>"
      ]
     },
     "metadata": {},
     "output_type": "display_data"
    }
   ],
   "source": [
    "from sklearn.metrics import confusion_matrix\n",
    "import seaborn as sns\n",
    "import matplotlib.pyplot as plt\n",
    "\n",
    "mat = confusion_matrix(test_df.ranker_genre, predicted)\n",
    "sns.heatmap(\n",
    "    mat.T, square=True, annot=True, fmt='d', cbar=False,\n",
    "    xticklabels=genres, \n",
    "    yticklabels=genres\n",
    ")\n",
    "plt.xlabel('true label')\n",
    "plt.ylabel('predicted label');"
   ]
  },
  {
   "attachments": {},
   "cell_type": "markdown",
   "metadata": {},
   "source": [
    "Per concludere si rimanda in calce ai risultati relativi a:\n",
    "1. Precision: capacità di classificazione corretta degli elementi dell'insieme che sta venendo considerato;\n",
    "2. Recall: capacità di ottenimento di tutti gli elementi interessanti al fine dell'analisi;\n",
    "3. Fscore: misura di accuratezza basata dalla combinazione di *precision* e *recall*;\n",
    "\n"
   ]
  },
  {
   "cell_type": "code",
   "execution_count": 95,
   "metadata": {},
   "outputs": [
    {
     "name": "stdout",
     "output_type": "stream",
     "text": [
      "POP_precision: 0.7553110194100565\n",
      "POP_recall: 0.9056258017225581\n",
      "POP_fscore: 0.8236666666666665\n",
      "POP_support: 5457\n",
      "\n",
      "ALT ROCK_precision: 0.9319020215434558\n",
      "ALT ROCK_recall: 0.7519795201524082\n",
      "ALT ROCK_fscore: 0.8323284241046423\n",
      "ALT ROCK_support: 16797\n",
      "\n",
      "HIP HOP_precision: 0.3880907765979596\n",
      "HIP HOP_recall: 0.7044595616024187\n",
      "HIP HOP_fscore: 0.5004698617264062\n",
      "HIP HOP_support: 2646\n",
      "\n"
     ]
    }
   ],
   "source": [
    "from sklearn.metrics import precision_recall_fscore_support\n",
    "\n",
    "precision, recall, fscore, support = precision_recall_fscore_support(test_df.ranker_genre, predicted)\n",
    "\n",
    "for n,genre in enumerate(genres):\n",
    "    genre = genre.upper()\n",
    "    print(genre+'_precision: {}'.format(precision[n]))\n",
    "    print(genre+'_recall: {}'.format(recall[n]))\n",
    "    print(genre+'_fscore: {}'.format(fscore[n]))\n",
    "    print(genre+'_support: {}'.format(support[n]))\n",
    "    print()"
   ]
  },
  {
   "attachments": {},
   "cell_type": "markdown",
   "metadata": {},
   "source": [
    "Considerando tutti i risultati"
   ]
  },
  {
   "cell_type": "code",
   "execution_count": 100,
   "metadata": {},
   "outputs": [
    {
     "data": {
      "text/plain": [
       "array(['Hip Hop', 'Hip Hop', 'Hip Hop', 'alt rock', 'pop', 'alt rock',\n",
       "       'alt rock', 'Hip Hop', 'pop', 'alt rock', 'alt rock', 'Hip Hop',\n",
       "       'alt rock', 'Hip Hop', 'pop', 'Hip Hop', 'alt rock', 'pop', 'pop',\n",
       "       'Hip Hop', 'Hip Hop', 'pop', 'pop', 'alt rock', 'alt rock', 'pop',\n",
       "       'pop', 'alt rock', 'alt rock', 'Hip Hop', 'Hip Hop', 'Hip Hop',\n",
       "       'alt rock', 'pop', 'alt rock', 'Hip Hop', 'alt rock', 'Hip Hop',\n",
       "       'alt rock', 'Hip Hop', 'Hip Hop', 'alt rock', 'Hip Hop', 'pop',\n",
       "       'Hip Hop', 'alt rock', 'pop', 'pop', 'Hip Hop', 'Hip Hop', 'pop',\n",
       "       'pop', 'alt rock', 'pop', 'pop', 'pop', 'alt rock', 'alt rock',\n",
       "       'Hip Hop', 'Hip Hop', 'Hip Hop', 'Hip Hop', 'Hip Hop', 'Hip Hop',\n",
       "       'Hip Hop', 'Hip Hop', 'pop'], dtype='<U8')"
      ]
     },
     "execution_count": 100,
     "metadata": {},
     "output_type": "execute_result"
    }
   ],
   "source": [
    "text_clf.predict(\n",
    "[\n",
    "    \"[Intro: Tyler, The Creator]\",\n",
    "    \"Okay, okay, okay, okay, okay, okay, o-\",\n",
    "    \n",
    "    \"[Verse 1: Tyler, The Creator]\",\n",
    "    \"You live in my dream state\",\n",
    "    \"Relocate my fantasy\",\n",
    "    \"I stay in reality\",\n",
    "    \"You live in my dream state\",\n",
    "    \"Any time I count sheep\",\n",
    "    \"That's the only time we make up, make up\",\n",
    "    \"You exist behind my eyelids, my eyelids\",\n",
    "    \"Now, I don't wanna wake up\",\n",
    "    \n",
    "    \"[Pre-Chorus: Tyler, The Creator, with Kali Uchis]\",\n",
    "    \"20/20, 20/20 vision\",\n",
    "    \"Cupid hit me, cupid hit me with precision, eye\",\n",
    "    \"Wonder if you look both ways when you cross my mind\",\n",
    "    \"I said, I said\",\n",
    "    \"I'm sick of, sick of, sick of, sick of chasing\",\n",
    "    \"You're the one that's always running through my daydreams, I\",\n",
    "    \"I can only see your face when I close my eyes\",\n",
    "    \"So...\",\n",
    "    \n",
    "    \"[Chorus: Kali Uchis & Tyler, The Creator]\",\n",
    "    \"Can I get a kiss?\",\n",
    "    \"And can you make it last forever?\",\n",
    "    \"I said, I'm 'bout to go to war (Uh-huh)\",\n",
    "    \"And I don't know if I'ma see you again\",\n",
    "    \"Can I get a kiss? (Can I?)\",\n",
    "    \"And can you make it last forever? (Can you?)\",\n",
    "    \"I said, I'm 'bout to go to war (I'm 'bout to)\",\n",
    "    \"And I don't know if I'ma see you again\",\n",
    "    \"Ugh, switch it up\",\n",
    "    \n",
    "    \"[Verse 2: Tyler, The Creator]\",\n",
    "    \"I said, okay, okay, okay, okey-dokey, my infatuation\",\n",
    "    \"Is translating to another form of what you call it? (Love)\",\n",
    "    \"Oh yeah, oh yeah, oh yeah, I ain't met you, I've been looking\",\n",
    "    \"Stop the waiting 'fore I stop the chasing, like an alcoholic\",\n",
    "    \"You don't understand me—what the fuck do you mean?\",\n",
    "    \"It's them rose-tinted cheeks, yeah, it's them dirt-colored eyes\",\n",
    "    \"Sugar-honey iced tea, bumblebee on the scene\",\n",
    "    \"Yeah, I'd give up my bakery to have a piece of your pie\",\n",
    "    \"Ugh!\",\n",
    "    \n",
    "    \"[Pre-Chorus: Tyler, The Creator, with Kali Uchis]\",\n",
    "    \"20/20, 20/20 vision\",\n",
    "    \"Cupid hit me, cupid hit me with precision, eye\",\n",
    "    \"Wonder if you look both ways when you cross my mind\",\n",
    "    \"I said, I said\",\n",
    "    \"I'm sick of, sick of, sick of, sick of chasing\",\n",
    "    \"You're the one that's always running through my daydreams, I\",\n",
    "    \"I can only see your face when I close my eyes\",\n",
    "    \"So...\",\n",
    "    \n",
    "    \"[Chorus: Kali Uchis]\",\n",
    "    \"Can I get a kiss? (Can I get a kiss?)\",\n",
    "    \"And can you make it last forever? (Make it last forever)\",\n",
    "    \"I said I'm 'bout to go to war ('Bout to go to war)\",\n",
    "    \"I don't know if I'ma see you again (See you again)\",\n",
    "    \"Can I get a kiss? (Can I?)\",\n",
    "    \"And can you make it last forever? (Can you?)\",\n",
    "    \"I said I'm 'bout to go to war ('Bout to)\",\n",
    "    \"And I don't know if I'ma see you again\",\n",
    "    \"[Outro: Tyler, The Creator & Kali Uchis]\",\n",
    "    \"Okay, okay, okay, okay, okay, okay, okay, o—\",\n",
    "    \"(La la, la la la la, la la)\",\n",
    "    \"Okay, okay, okay, okay, okay, okay, okay, o—\",\n",
    "    \"(La la, la la la, la la)\",\n",
    "    \"Okay, okay, okay, okay, okay, okay, okay, o—\",\n",
    "    \"(La la, la la la la, la la\",\n",
    "    \"La la, la la la la)\",\n",
    "    \"One more time?\"\n",
    "    ]\n",
    "    )"
   ]
  }
 ],
 "metadata": {
  "kernelspec": {
   "display_name": "Python 3",
   "language": "python",
   "name": "python3"
  },
  "language_info": {
   "codemirror_mode": {
    "name": "ipython",
    "version": 3
   },
   "file_extension": ".py",
   "mimetype": "text/x-python",
   "name": "python",
   "nbconvert_exporter": "python",
   "pygments_lexer": "ipython3",
   "version": "3.10.7"
  },
  "orig_nbformat": 4,
  "vscode": {
   "interpreter": {
    "hash": "916dbcbb3f70747c44a77c7bcd40155683ae19c65e1c03b4aa3499c5328201f1"
   }
  }
 },
 "nbformat": 4,
 "nbformat_minor": 2
}
