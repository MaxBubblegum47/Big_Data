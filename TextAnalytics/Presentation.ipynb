{
 "cells": [
  {
   "attachments": {},
   "cell_type": "markdown",
   "metadata": {},
   "source": [
    "# Genre Prediction Based on Lyrics"
   ]
  },
  {
   "attachments": {},
   "cell_type": "markdown",
   "metadata": {},
   "source": [
    "## Introduzione\n",
    "La relazione si pone l'obiettivo di definire un predittore di genere musicale basato su lyrics (testi delle canzoni). Il dataset utilizzato è una istanza di https://tmthyjames.github.io/2018/january/Cypher/ (Cypher, https://github.com/tmthyjames/cypher). Il progetto è attualmente dismesso, ma è possibile reperire in rete alcune istanze (tipicamente da altri progetti github). Il dataset consiste in un documento in formato CSV in cui sono presenti informazioni riguardo brani musicali di vari generi: titolo, cantante, album, genere, etc. ... Su tale dataset si sviluppa l'allenamento del modello di machine learning ed i relativi test di verifica dell'apprendimento. Una volta allenata la rete neurale si proveranno ad affettuare una serie di predizioni con nuovi brani e verranno verificati i risultati.\n",
    "\n",
    "Contenuto\n",
    "- Caricamento dei Dati\n",
    "- Pre-processamento dei dati\n",
    "- Allenamento del Modello\n",
    "- Visualizzazione dei risultati\n",
    "\n",
    "#### Prerequisiti\n",
    "Una lista di librerie necessarie al corretto funzionamento del notebook:\n",
    "- pandas\n",
    "- numpy\n",
    "- sklearn\n",
    "- random"
   ]
  },
  {
   "attachments": {},
   "cell_type": "markdown",
   "metadata": {},
   "source": [
    "## Caricamento dei Dati\n",
    "Per caricare i dati in formato csv all'interno del programma viene utilizzato pandas, in particolare il metodo __read_csv__ creando un *dataframe*. Ai fini di poter raggruppare alcuni dei sottogeneri o derivati del genere rock è stato creato un alias chiamato _alt rock_ che raggruppa: screamo, punk rock ed heavy metal.\n",
    "\n",
    "Motivazione di rankergenre --> praticamente genre è una serie e quindi è un po' un casino gestirla, allora è presente una colonna che identifica solamente un genere per canzone e questo viene usato per selezionare correttamente le canzoni. Magari posso anche provare a rinominare una colonna e bona così smetto di avere queste beghe e buonanotte. \n",
    "TO DO: elimina genre column e rimonomina ranker to genre."
   ]
  },
  {
   "cell_type": "code",
   "execution_count": 13,
   "metadata": {},
   "outputs": [
    {
     "name": "stderr",
     "output_type": "stream",
     "text": [
      "/tmp/ipykernel_566462/1771212627.py:12: DtypeWarning: Columns (2,5,11,14) have mixed types. Specify dtype option on import or set low_memory=False.\n",
      "  df = pd.read_csv('lyrics.csv', on_bad_lines='skip')\n"
     ]
    }
   ],
   "source": [
    "import pandas as pd\n",
    "import numpy as np\n",
    "from sklearn.utils import shuffle\n",
    "from nltk.corpus import stopwords\n",
    "import random\n",
    "from sklearn.feature_extraction.text import CountVectorizer, TfidfVectorizer\n",
    "from sklearn.naive_bayes import MultinomialNB\n",
    "from sklearn.pipeline import Pipeline\n",
    "from sklearn.model_selection import cross_val_score, GridSearchCV, RandomizedSearchCV\n",
    "\n",
    "# Read in the CSV file and filter the data to include only rows with 'screamo', 'punk rock', or 'heavy metal' in the 'genre' column\n",
    "df = pd.read_csv('lyrics.csv', on_bad_lines='skip')\n",
    "\n",
    "# fix column name\n",
    "df = df.drop('genre', axis=1)\n",
    "df.rename(columns={'ranker_genre': 'genre'}, inplace=True)\n",
    "\n",
    "\n",
    "df['genre'] = np.where(\n",
    "    (df['genre'] == 'screamo')|\n",
    "    (df['genre'] == 'punk rock')|\n",
    "    (df['genre'] == 'heavy metal'), \n",
    "    'alt rock', \n",
    "    df['genre']\n",
    ")"
   ]
  },
  {
   "cell_type": "markdown",
   "metadata": {},
   "source": []
  },
  {
   "attachments": {},
   "cell_type": "markdown",
   "metadata": {},
   "source": [
    "Si procede con il raggruppamento sui seguenti campi: _song_, _year_, _album_, _genre_, _artist_, *genre*. Si applicano poi vari metodi che anticipano la seguente fase di preprocessing sui titoli delle canzoni, andando ad effettuare il lowering (transformazione da caratteri in maiuscolo in minuscolo), rimozione di caratteri non necessari e operazioni di _join_ su spazi bianchi."
   ]
  },
  {
   "cell_type": "code",
   "execution_count": 14,
   "metadata": {},
   "outputs": [
    {
     "name": "stderr",
     "output_type": "stream",
     "text": [
      "/tmp/ipykernel_566462/3132196890.py:10: FutureWarning: The default value of regex will change from True to False in a future version.\n",
      "  lyrics_by_song[\"lyric\"] = lyrics_by_song['lyric'].str.replace(r'[^\\w\\s]','')\n"
     ]
    }
   ],
   "source": [
    "# Group the data by song, year, album, genre, artist, and genre, and concatenate the lyrics into a single string for each group\n",
    "group = ['song', 'year', 'album', 'genre', 'artist']\n",
    "lyrics_by_song = df.sort_values(group)\\\n",
    "        .groupby(group).lyric\\\n",
    "        .apply(' '.join)\\\n",
    "        .apply(lambda x: x.lower())\\\n",
    "        .reset_index(name='lyric')\n",
    "\n",
    "# Remove non-alphanumeric characters from the 'lyric' column\n",
    "lyrics_by_song[\"lyric\"] = lyrics_by_song['lyric'].str.replace(r'[^\\w\\s]','')\n"
   ]
  },
  {
   "attachments": {},
   "cell_type": "markdown",
   "metadata": {},
   "source": [
    "## Creazione dei dataset\n",
    "In questa relazione si prendono in considerazione 3 generi: pop, alternative rock (alt rock) e hip hop. Si definiscono dei paremetri relativi alla ricerca di canzoni per questi generi come:\n",
    "- numero di caratteri che deve avere ogni canzone per poter essere considerata\n",
    "- numero di canzoni  \n",
    "\n",
    "Vengono infine creati due dataset: uno di traning e uno di test, che verranno utilizzati per allenare il modello ed effettuare i test finali."
   ]
  },
  {
   "cell_type": "code",
   "execution_count": 15,
   "metadata": {},
   "outputs": [
    {
     "name": "stderr",
     "output_type": "stream",
     "text": [
      "/tmp/ipykernel_566462/509498260.py:28: FutureWarning: The frame.append method is deprecated and will be removed from pandas in a future version. Use pandas.concat instead.\n",
      "  train_df = train_df.append(train_set) # append subsets to the master sets\n",
      "/tmp/ipykernel_566462/509498260.py:29: FutureWarning: The frame.append method is deprecated and will be removed from pandas in a future version. Use pandas.concat instead.\n",
      "  test_df = test_df.append(test_set)\n",
      "/tmp/ipykernel_566462/509498260.py:28: FutureWarning: The frame.append method is deprecated and will be removed from pandas in a future version. Use pandas.concat instead.\n",
      "  train_df = train_df.append(train_set) # append subsets to the master sets\n",
      "/tmp/ipykernel_566462/509498260.py:29: FutureWarning: The frame.append method is deprecated and will be removed from pandas in a future version. Use pandas.concat instead.\n",
      "  test_df = test_df.append(test_set)\n",
      "/tmp/ipykernel_566462/509498260.py:28: FutureWarning: The frame.append method is deprecated and will be removed from pandas in a future version. Use pandas.concat instead.\n",
      "  train_df = train_df.append(train_set) # append subsets to the master sets\n",
      "/tmp/ipykernel_566462/509498260.py:29: FutureWarning: The frame.append method is deprecated and will be removed from pandas in a future version. Use pandas.concat instead.\n",
      "  test_df = test_df.append(test_set)\n"
     ]
    }
   ],
   "source": [
    "from sklearn.utils import shuffle\n",
    "from nltk.corpus import stopwords\n",
    "import random\n",
    "\n",
    "# select genre to analyze\n",
    "genres = [\n",
    "    'pop', 'alt rock', 'Hip Hop',\n",
    "]\n",
    "\n",
    "LYRIC_LEN = 400 # each song has to be > 400 characters\n",
    "N = 1000\n",
    "RANDOM_SEED = 200 # random seed to make results repeatable\n",
    "\n",
    "train_df = pd.DataFrame()\n",
    "test_df = pd.DataFrame()\n",
    "\n",
    "# loop over each genre\n",
    "for gen in genres: \n",
    "    # create a subset with the correct genre and the right lenght of the song\n",
    "    subset = lyrics_by_song[  \n",
    "        (lyrics_by_song.genre==gen) & \n",
    "        (lyrics_by_song.lyric.str.len() > LYRIC_LEN)\n",
    "    ]\n",
    "    \n",
    "    # dataset creation\n",
    "    train_set = subset.sample(n=N, random_state=RANDOM_SEED, replace=True)\n",
    "    test_set = subset.drop(train_set.index)\n",
    "    train_df = train_df.append(train_set) # append subsets to the master sets\n",
    "    test_df = test_df.append(test_set)\n",
    "\n",
    "train_df = shuffle(train_df)\n",
    "test_df = shuffle(test_df)"
   ]
  },
  {
   "attachments": {},
   "cell_type": "markdown",
   "metadata": {},
   "source": [
    "Con i dataset appena creati possiamo creare due pipelines che ci forniscono due implementazione diverse del metodo NaiveBayes: nel primo caso implementiamo __CountVectorizer__ e nel secondo __TfidfVectorizer__. Il primo implementa funzionalità di analisi di frequenza dei termini all'interno delle lyrics, mentre il secondo si basa su *Term Frequency - Inverse Document Frequency*. Tale valore aumenta proporzionalmente al numero di volte che il termine è contenuto nel documento, ma cresce in maniera inversamente proporzionale con la frequenza del termine nella collezione. L'idea alla base di questo comportamento è di dare più importanza ai termini che compaiono nel documento, ma che in generale sono poco frequenti.\n",
    "\n",
    "All'interno delle pipelines sono inoltre presenti dei parametri che ci permettono di effetuare operazione di pre-processing sui dati quali: \n",
    "- rimozion di *stopwords*\n",
    "- lemmatization\n",
    "\n",
    "Al termine della esecuzione delle pipelines i modelli vengono allenati sui dati di training attraverso due metodi differenti: \n",
    "1. cross validation: in this technique of cross-validation, the whole dataset is randomly partitioned into a training set and validation set\n",
    "2. random search: has the same purpose of GridSearchCV, so they both were designed to find the best parameters to improve your model. However, here not all parameters are tested. Rather, the search is randomized and all the other parameters are held constant while the parameters we are testing is variable\n"
   ]
  },
  {
   "cell_type": "code",
   "execution_count": 16,
   "metadata": {},
   "outputs": [
    {
     "name": "stdout",
     "output_type": "stream",
     "text": [
      "Mean count vectorizer/Multinomial NB accuracy: 0.551 +/- 0.019\n",
      "Mean Tf-idf vectorizer/Multinomial NB accuracy: 0.565 +/- 0.013\n",
      "Best count vectorizer/Multinomial NB accuracy: 0.567\n",
      "Best count vectorizer/Multinomial NB parameters: {'vect__min_df': 2, 'vect__max_features': None, 'vect__max_df': 0.75, 'clf__alpha': 0.1}\n",
      "Best Tf-idf vectorizer/Multinomial NB accuracy: 0.605\n",
      "Best Tf-idf vectorizer/Multinomial NB parameters: {'vect__min_df': 2, 'vect__max_features': None, 'vect__max_df': 0.75, 'clf__alpha': 0.1}\n"
     ]
    }
   ],
   "source": [
    "from sklearn.naive_bayes import MultinomialNB\n",
    "from sklearn.pipeline import Pipeline\n",
    "from nltk import word_tokenize\n",
    "from nltk.stem import WordNetLemmatizer\n",
    "\n",
    "import warnings\n",
    "warnings.filterwarnings('ignore')\n",
    "\n",
    "stop = list(set(stopwords.words('english'))) # stopwords\n",
    "wnl = WordNetLemmatizer() # lemmatizer\n",
    "\n",
    "def tokenizer(x): # custom tokenizer\n",
    "    return (\n",
    "        wnl.lemmatize(w) \n",
    "        for w in word_tokenize(x) \n",
    "        if len(w) == 2 and w.isalnum() # only words that are  2 characters\n",
    "    )                                  # and is alpha-numeric\n",
    "\n",
    "\n",
    "# Define a function to create a pipeline with a count vectorizer and a Multinomial Naive Bayes classifier\n",
    "count_nb_pipeline = Pipeline([\n",
    "        ('vect', CountVectorizer(       \n",
    "        ngram_range=(1, 2), # include bigrams\n",
    "        tokenizer=tokenizer,\n",
    "        stop_words=stop,\n",
    "        max_df=0.4, # ignore terms that appear in more than 40% of documents\n",
    "        min_df=4)), # ignore terms that appear in less than 4 documents)),\n",
    "        ('clf', MultinomialNB(alpha=0.1))\n",
    "    ])\n",
    "\n",
    "# Define a function to create a pipeline with a Tf-idf vectorizer and a Multinomial Naive Bayes classifier\n",
    "tfidf_nb_pipeline = Pipeline([\n",
    "        ('vect', TfidfVectorizer(\n",
    "        ngram_range=(1, 2), # include bigrams\n",
    "        tokenizer=tokenizer,\n",
    "        stop_words=stop,\n",
    "        max_df=0.4, # ignore terms that appear in more than 40% of documents\n",
    "        min_df=4)), # ignore terms that appear in less than 4 documents\n",
    "        ('clf', MultinomialNB(alpha=0.1))\n",
    "    ])\n",
    "\n",
    "# Use cross-validation to evaluate the performance of the count vectorizer/Multinomial NB pipeline\n",
    "scores = cross_val_score(count_nb_pipeline, train_df.lyric, train_df.genre, cv=5)\n",
    "print(f\"Mean count vectorizer/Multinomial NB accuracy: {scores.mean():.3f} +/- {scores.std():.3f}\")\n",
    "\n",
    "# Use cross-validation to evaluate the performance of the Tf-idf vectorizer/Multinomial NB pipeline\n",
    "scores = cross_val_score(tfidf_nb_pipeline, train_df.lyric, train_df.genre, cv=5)\n",
    "print(f\"Mean Tf-idf vectorizer/Multinomial NB accuracy: {scores.mean():.3f} +/- {scores.std():.3f}\")\n",
    "\n",
    "# Define a parameter grid for the count vectorizer/Multinomial NB pipeline\n",
    "param_grid = {\n",
    "    'vect__max_df': [0.5, 0.75, 1.0],\n",
    "    'vect__min_df': [2, 3, 4],\n",
    "    'vect__max_features': [None, 1000, 5000],\n",
    "    'clf__alpha': [0.1, 0.5, 1.0]\n",
    "}\n",
    "\n",
    "# Use randomized search to tune the hyperparameters of the count vectorizer/Multinomial NB pipeline\n",
    "random_search_count_nb_pipeline = RandomizedSearchCV(count_nb_pipeline, param_distributions=param_grid, n_iter=50, cv=5, random_state=RANDOM_SEED)\n",
    "random_search_count_nb_pipeline.fit(train_df.lyric, train_df.genre)\n",
    "print(f\"Best count vectorizer/Multinomial NB accuracy: {random_search_count_nb_pipeline.best_score_:.3f}\")\n",
    "print(f\"Best count vectorizer/Multinomial NB parameters: {random_search_count_nb_pipeline.best_params_}\")\n",
    "\n",
    "# Use randomized search to tune the hyperparameters of the Tf-idf vectorizer/Multinomial NB pipeline\n",
    "random_search_tfidf_nb_pipeline = RandomizedSearchCV(tfidf_nb_pipeline, param_distributions=param_grid, n_iter=50, cv=5, random_state=RANDOM_SEED)\n",
    "random_search_tfidf_nb_pipeline.fit(train_df.lyric, train_df.genre)\n",
    "print(f\"Best Tf-idf vectorizer/Multinomial NB accuracy: {random_search_tfidf_nb_pipeline.best_score_:.3f}\")\n",
    "print(f\"Best Tf-idf vectorizer/Multinomial NB parameters: {random_search_tfidf_nb_pipeline.best_params_}\")"
   ]
  },
  {
   "attachments": {},
   "cell_type": "markdown",
   "metadata": {},
   "source": [
    "## Visualizzazione dei risultati"
   ]
  },
  {
   "attachments": {},
   "cell_type": "markdown",
   "metadata": {},
   "source": [
    "Con i risultati ottenuti è possibile andare a comporre una matrice di confusione per poter andare a visualizzare i risultati ottenuti in maniera grafica. Questo permette di valutare in che campi le previsioni del modello tendono a sbagliare e confondere un genere per un altro."
   ]
  },
  {
   "cell_type": "code",
   "execution_count": 17,
   "metadata": {},
   "outputs": [
    {
     "data": {
      "text/plain": [
       "Text(113.9222222222222, 0.5, 'predicted label count_nb pipeline')"
      ]
     },
     "execution_count": 17,
     "metadata": {},
     "output_type": "execute_result"
    },
    {
     "data": {
      "image/png": "[encoded data removed]",
      "text/plain": [
       "<Figure size 640x480 with 1 Axes>"
      ]
     },
     "metadata": {},
     "output_type": "display_data"
    }
   ],
   "source": [
    "from sklearn.metrics import confusion_matrix\n",
    "import seaborn as sns\n",
    "import matplotlib.pyplot as plt\n",
    "\n",
    "# score our model on testing data\n",
    "predicted = random_search_count_nb_pipeline.predict(test_df.lyric)\n",
    "np.mean(predicted == test_df.genre)\n",
    "\n",
    "mat = confusion_matrix(test_df.genre, predicted)\n",
    "sns.heatmap(\n",
    "    mat.T, square=True, annot=True, fmt='d', cbar=False,\n",
    "    xticklabels=genres, \n",
    "    yticklabels=genres\n",
    ")\n",
    "plt.xlabel('true label count_nb pipeline')\n",
    "plt.ylabel('predicted label count_nb pipeline')"
   ]
  },
  {
   "cell_type": "code",
   "execution_count": 18,
   "metadata": {},
   "outputs": [
    {
     "data": {
      "text/plain": [
       "Text(113.9222222222222, 0.5, 'predicted label tfidf_nb pipeline')"
      ]
     },
     "execution_count": 18,
     "metadata": {},
     "output_type": "execute_result"
    },
    {
     "data": {
      "image/png": "[encoded data removed]",
      "text/plain": [
       "<Figure size 640x480 with 1 Axes>"
      ]
     },
     "metadata": {},
     "output_type": "display_data"
    }
   ],
   "source": [
    "predicted = random_search_tfidf_nb_pipeline.predict(test_df.lyric)\n",
    "np.mean(predicted == test_df.genre)\n",
    "\n",
    "mat = confusion_matrix(test_df.genre, predicted)\n",
    "sns.heatmap(\n",
    "    mat.T, square=True, annot=True, fmt='d', cbar=False,\n",
    "    xticklabels=genres, \n",
    "    yticklabels=genres\n",
    ")\n",
    "plt.xlabel('true label tfidf_nb pipeline')\n",
    "plt.ylabel('predicted label tfidf_nb pipeline')"
   ]
  },
  {
   "attachments": {},
   "cell_type": "markdown",
   "metadata": {},
   "source": [
    "Per concludere si rimanda in calce ai risultati relativi a:\n",
    "1. Precision: capacità di classificazione corretta degli elementi dell'insieme che sta venendo considerato;\n",
    "2. Recall: capacità di ottenimento di tutti gli elementi interessanti al fine dell'analisi;\n",
    "3. Fscore: misura di accuratezza basata dalla combinazione di *precision* e *recall*;\n",
    "\n"
   ]
  },
  {
   "cell_type": "code",
   "execution_count": 19,
   "metadata": {},
   "outputs": [
    {
     "name": "stdout",
     "output_type": "stream",
     "text": [
      "POP_precision: 0.4392128580259633\n",
      "POP_recall: 0.7846493649917173\n",
      "POP_fscore: 0.563181187661008\n",
      "POP_support: 5433\n",
      "\n",
      "ALT ROCK_precision: 0.8394585957326817\n",
      "ALT ROCK_recall: 0.46975594361455925\n",
      "ALT ROCK_fscore: 0.6024080132204647\n",
      "ALT ROCK_support: 19012\n",
      "\n",
      "HIP HOP_precision: 0.2567780994998684\n",
      "HIP HOP_recall: 0.5577472841623785\n",
      "HIP HOP_fscore: 0.3516582552271089\n",
      "HIP HOP_support: 3498\n",
      "\n"
     ]
    }
   ],
   "source": [
    "from sklearn.metrics import precision_recall_fscore_support\n",
    "\n",
    "precision, recall, fscore, support = precision_recall_fscore_support(test_df.genre, predicted)\n",
    "\n",
    "for n,genre in enumerate(genres):\n",
    "    genre = genre.upper()\n",
    "    print(genre+'_precision: {}'.format(precision[n]))\n",
    "    print(genre+'_recall: {}'.format(recall[n]))\n",
    "    print(genre+'_fscore: {}'.format(fscore[n]))\n",
    "    print(genre+'_support: {}'.format(support[n]))\n",
    "    print()"
   ]
  },
  {
   "attachments": {},
   "cell_type": "markdown",
   "metadata": {},
   "source": [
    "## Implemntazione con Tensor Flow"
   ]
  },
  {
   "cell_type": "code",
   "execution_count": 20,
   "metadata": {},
   "outputs": [
    {
     "name": "stderr",
     "output_type": "stream",
     "text": [
      "2023-01-14 20:21:50.853833: W tensorflow/tsl/framework/cpu_allocator_impl.cc:82] Allocation of 6368321472 exceeds 10% of free system memory.\n"
     ]
    },
    {
     "name": "stdout",
     "output_type": "stream",
     "text": [
      "Epoch 1/10\n",
      "94/94 [==============================] - 10s 101ms/step - loss: 0.5621 - accuracy: 0.7577 - val_loss: 0.5430 - val_accuracy: 0.7794\n",
      "Epoch 2/10\n",
      "94/94 [==============================] - 9s 94ms/step - loss: 0.1230 - accuracy: 0.9620 - val_loss: 0.5299 - val_accuracy: 0.8016\n",
      "Epoch 3/10\n",
      "94/94 [==============================] - 9s 94ms/step - loss: 0.0360 - accuracy: 0.9953 - val_loss: 0.6271 - val_accuracy: 0.7924\n",
      "Epoch 4/10\n",
      "94/94 [==============================] - 9s 99ms/step - loss: 0.0129 - accuracy: 0.9990 - val_loss: 0.6379 - val_accuracy: 0.8037\n",
      "Epoch 5/10\n",
      "94/94 [==============================] - 9s 98ms/step - loss: 0.0055 - accuracy: 1.0000 - val_loss: 0.7217 - val_accuracy: 0.7937\n",
      "Epoch 6/10\n",
      "94/94 [==============================] - 9s 96ms/step - loss: 0.0031 - accuracy: 1.0000 - val_loss: 0.7586 - val_accuracy: 0.7932\n",
      "Epoch 7/10\n",
      "94/94 [==============================] - 9s 98ms/step - loss: 0.0020 - accuracy: 1.0000 - val_loss: 0.8079 - val_accuracy: 0.7886\n",
      "Epoch 8/10\n",
      "94/94 [==============================] - 9s 98ms/step - loss: 0.0014 - accuracy: 1.0000 - val_loss: 0.8113 - val_accuracy: 0.7942\n",
      "Epoch 9/10\n",
      "94/94 [==============================] - 9s 92ms/step - loss: 0.0010 - accuracy: 1.0000 - val_loss: 0.8390 - val_accuracy: 0.7930\n",
      "Epoch 10/10\n",
      "94/94 [==============================] - 9s 97ms/step - loss: 7.7422e-04 - accuracy: 1.0000 - val_loss: 0.8728 - val_accuracy: 0.7897\n"
     ]
    },
    {
     "data": {
      "image/png": "[encoded data removed]",
      "text/plain": [
       "<Figure size 640x480 with 1 Axes>"
      ]
     },
     "metadata": {},
     "output_type": "display_data"
    },
    {
     "name": "stdout",
     "output_type": "stream",
     "text": [
      "874/874 [==============================] - 5s 6ms/step\n",
      "Accuracy for Hip Hop: 0.89\n",
      "Accuracy for alt rock: 0.77\n",
      "Accuracy for pop: 0.76\n"
     ]
    }
   ],
   "source": [
    "from sklearn.utils import shuffle\n",
    "from sklearn.preprocessing import LabelEncoder\n",
    "from sklearn.feature_extraction.text import CountVectorizer\n",
    "from nltk.corpus import stopwords\n",
    "import tensorflow as tf\n",
    "from sklearn.preprocessing import LabelEncoder\n",
    "from tensorflow.keras.layers import Dense\n",
    "import random\n",
    "\n",
    "# Encode the labels as integers\n",
    "encoder = LabelEncoder()\n",
    "y_train = encoder.fit_transform(train_df.genre)\n",
    "y_test = encoder.transform(test_df.genre)\n",
    "\n",
    "# Vectorize the lyrics\n",
    "vectorizer = CountVectorizer()\n",
    "X_train = vectorizer.fit_transform(train_df.lyric)\n",
    "X_test = vectorizer.transform(test_df.lyric)\n",
    "\n",
    "model = tf.keras.Sequential()\n",
    "model.add(Dense(128, input_dim=X_train.shape[1], activation='relu'))\n",
    "model.add(Dense(3, activation='softmax'))\n",
    "\n",
    "model.compile(loss='sparse_categorical_crossentropy', optimizer='adam', metrics=['accuracy'])\n",
    "\n",
    "y_train_tensor = tf.convert_to_tensor(y_train)\n",
    "y_test_tensor = tf.convert_to_tensor(y_test)\n",
    "\n",
    "# Convert the vectors to a dense tensor\n",
    "X_train = tf.convert_to_tensor(X_train.todense())\n",
    "X_test = tf.convert_to_tensor(X_test.todense())\n",
    "\n",
    "\n",
    "history = model.fit(X_train, y_train_tensor, epochs=10, validation_data=(X_test, y_test_tensor))\n",
    "\n",
    "# display the data\n",
    "import matplotlib.pyplot as plt\n",
    "\n",
    "# Get the training and validation loss values\n",
    "loss = history.history['loss']\n",
    "val_loss = history.history['val_loss']\n",
    "\n",
    "# Plot the training and validation loss\n",
    "plt.plot(loss)\n",
    "plt.plot(val_loss)\n",
    "plt.title('Model loss')\n",
    "plt.ylabel('Loss')\n",
    "plt.xlabel('Epoch')\n",
    "plt.legend(['Training loss', 'Validation loss'])\n",
    "plt.show()\n",
    "\n",
    "# Get the predicted class probabilities for each sample in the test set\n",
    "probs = model.predict(X_test)\n",
    "\n",
    "# Initialize a dictionary to store the accuracy for each genre\n",
    "genre_accuracy = {}\n",
    "\n",
    "# Loop over the test samples\n",
    "for i, sample in enumerate(X_test):\n",
    "\n",
    "    # Get the true class for the sample\n",
    "    true_class = y_test[i]\n",
    "\n",
    "    # Get the predicted class for the sample\n",
    "    predicted_class = np.argmax(probs[i])\n",
    "\n",
    "    # Get the genre name for the true and predicted classes\n",
    "    true_genre = encoder.inverse_transform([true_class])[0]\n",
    "    predicted_genre = encoder.inverse_transform([predicted_class])[0]\n",
    "\n",
    "    # Update the accuracy for the true genre\n",
    "    if true_genre not in genre_accuracy:\n",
    "        genre_accuracy[true_genre] = 1 if true_genre == predicted_genre else 0\n",
    "    else:\n",
    "        genre_accuracy[true_genre] += 1 if true_genre == predicted_genre else 0\n",
    "\n",
    "# Divide the number of correctly predicted samples by the total number of samples for each genre to get the accuracy\n",
    "for genre, count in genre_accuracy.items():\n",
    "    genre_accuracy[genre] = count / test_df[test_df.genre == genre].shape[0]\n",
    "\n",
    "# Print the accuracy for each genre\n",
    "for genre, accuracy in genre_accuracy.items():\n",
    "    print(f'Accuracy for {genre}: {accuracy:.2f}')\n"
   ]
  }
 ],
 "metadata": {
  "kernelspec": {
   "display_name": "Python 3",
   "language": "python",
   "name": "python3"
  },
  "language_info": {
   "codemirror_mode": {
    "name": "ipython",
    "version": 3
   },
   "file_extension": ".py",
   "mimetype": "text/x-python",
   "name": "python",
   "nbconvert_exporter": "python",
   "pygments_lexer": "ipython3",
   "version": "3.10.7"
  },
  "orig_nbformat": 4,
  "vscode": {
   "interpreter": {
    "hash": "916dbcbb3f70747c44a77c7bcd40155683ae19c65e1c03b4aa3499c5328201f1"
   }
  }
 },
 "nbformat": 4,
 "nbformat_minor": 2
}
