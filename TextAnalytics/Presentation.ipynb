{
 "cells": [
  {
   "attachments": {},
   "cell_type": "markdown",
   "metadata": {},
   "source": [
    "# Genre Prediction Based on Lyrics"
   ]
  },
  {
   "attachments": {},
   "cell_type": "markdown",
   "metadata": {},
   "source": [
    "## Introduzione\n",
    "La relazione si pone l'obiettivo di definire un predittore di genere musicale basato su lyrics (testi delle canzoni). Il dataset utilizzato è una istanza di https://tmthyjames.github.io/2018/january/Cypher/ (Cypher, https://github.com/tmthyjames/cypher). Il progetto è attualmente dismesso, ma è possibile reperire in rete alcune istanze (tipicamente da altri progetti github). Il dataset consiste in un documento in formato CSV in cui sono presenti informazioni riguardo brani musicali di vari generi: titolo, cantante, album, genere, etc. ... Su tale dataset si sviluppa l'allenamento del modello di machine learning ed i relativi test di verifica dell'apprendimento. Una volta allenata la rete neurale si proveranno ad affettuare una serie di predizioni con nuovi brani e verranno verificati i risultati.\n",
    "\n",
    "Contenuto\n",
    "- Caricamento dei Dati\n",
    "- Pre-processamento dei dati\n",
    "- Allenamento del Modello\n",
    "- Visualizzazione dei risultati\n",
    "\n",
    "#### Prerequisiti\n",
    "Una lista di librerie necessarie al corretto funzionamento del notebook:\n",
    "- pandas\n",
    "- numpy\n",
    "- sklearn\n",
    "- random"
   ]
  },
  {
   "attachments": {},
   "cell_type": "markdown",
   "metadata": {},
   "source": [
    "## Caricamento dei Dati\n",
    "Per caricare i dati in formato csv all'interno del programma viene utilizzato pandas, in particolare il metodo __read_csv__ creando un *dataframe*. Ai fini di poter raggruppare alcuni dei sottogeneri o derivati del genere rock è stato creato un alias chiamato _alt rock_ che raggruppa: screamo, punk rock ed heavy metal.\n",
    "\n",
    "Motivazione di rankergenre --> praticamente genre è una serie e quindi è un po' un casino gestirla, allora è presente una colonna che identifica solamente un genere per canzone e questo viene usato per selezionare correttamente le canzoni. Magari posso anche provare a rinominare una colonna e bona così smetto di avere queste beghe e buonanotte. \n",
    "TO DO: elimina genre column e rimonomina ranker to genre."
   ]
  },
  {
   "cell_type": "code",
   "execution_count": 1,
   "metadata": {},
   "outputs": [
    {
     "name": "stderr",
     "output_type": "stream",
     "text": [
      "/tmp/ipykernel_566462/1331866022.py:12: DtypeWarning: Columns (2,5,11,14) have mixed types. Specify dtype option on import or set low_memory=False.\n",
      "  df = pd.read_csv('lyrics.csv', on_bad_lines='skip')\n"
     ]
    }
   ],
   "source": [
    "import pandas as pd\n",
    "import numpy as np\n",
    "from sklearn.utils import shuffle\n",
    "from nltk.corpus import stopwords\n",
    "import random\n",
    "from sklearn.feature_extraction.text import CountVectorizer, TfidfVectorizer\n",
    "from sklearn.naive_bayes import MultinomialNB\n",
    "from sklearn.pipeline import Pipeline\n",
    "from sklearn.model_selection import cross_val_score, GridSearchCV, RandomizedSearchCV\n",
    "\n",
    "# Read in the CSV file and filter the data to include only rows with 'screamo', 'punk rock', or 'heavy metal' in the 'genre' column\n",
    "df = pd.read_csv('lyrics.csv', on_bad_lines='skip')\n",
    "df['ranker_genre'] = np.where(\n",
    "    (df['ranker_genre'] == 'screamo')|\n",
    "    (df['ranker_genre'] == 'punk rock')|\n",
    "    (df['ranker_genre'] == 'heavy metal'), \n",
    "    'alt rock', \n",
    "    df['ranker_genre']\n",
    ")"
   ]
  },
  {
   "cell_type": "markdown",
   "metadata": {},
   "source": []
  },
  {
   "attachments": {},
   "cell_type": "markdown",
   "metadata": {},
   "source": [
    "Si procede con il raggruppamento sui seguenti campi: _song_, _year_, _album_, _genre_, _artist_, *ranker_genre*. Si applicano poi vari metodi che anticipano la seguente fase di preprocessing sui titoli delle canzoni, andando ad effettuare il lowering (transformazione da caratteri in maiuscolo in minuscolo), rimozione di caratteri non necessari e operazioni di _join_ su spazi bianchi."
   ]
  },
  {
   "cell_type": "code",
   "execution_count": 2,
   "metadata": {},
   "outputs": [
    {
     "name": "stderr",
     "output_type": "stream",
     "text": [
      "/tmp/ipykernel_566462/1107819266.py:10: FutureWarning: The default value of regex will change from True to False in a future version.\n",
      "  lyrics_by_song[\"lyric\"] = lyrics_by_song['lyric'].str.replace(r'[^\\w\\s]','')\n"
     ]
    }
   ],
   "source": [
    "# Group the data by song, year, album, genre, artist, and ranker_genre, and concatenate the lyrics into a single string for each group\n",
    "group = ['song', 'year', 'album', 'genre', 'artist', 'ranker_genre']\n",
    "lyrics_by_song = df.sort_values(group)\\\n",
    "        .groupby(group).lyric\\\n",
    "        .apply(' '.join)\\\n",
    "        .apply(lambda x: x.lower())\\\n",
    "        .reset_index(name='lyric')\n",
    "\n",
    "# Remove non-alphanumeric characters from the 'lyric' column\n",
    "lyrics_by_song[\"lyric\"] = lyrics_by_song['lyric'].str.replace(r'[^\\w\\s]','')\n"
   ]
  },
  {
   "attachments": {},
   "cell_type": "markdown",
   "metadata": {},
   "source": [
    "## Creazione dei dataset\n",
    "In questa relazione si prendono in considerazione 3 generi: pop, alternative rock (alt rock) e hip hop. Si definiscono dei paremetri relativi alla ricerca di canzoni per questi generi come:\n",
    "- numero di caratteri che deve avere ogni canzone per poter essere considerata\n",
    "- numero di canzoni  \n",
    "\n",
    "Vengono infine creati due dataset: uno di traning e uno di test, che verranno utilizzati per allenare il modello ed effettuare i test finali."
   ]
  },
  {
   "cell_type": "code",
   "execution_count": 3,
   "metadata": {},
   "outputs": [
    {
     "name": "stderr",
     "output_type": "stream",
     "text": [
      "/tmp/ipykernel_566462/2689487206.py:28: FutureWarning: The frame.append method is deprecated and will be removed from pandas in a future version. Use pandas.concat instead.\n",
      "  train_df = train_df.append(train_set) # append subsets to the master sets\n",
      "/tmp/ipykernel_566462/2689487206.py:29: FutureWarning: The frame.append method is deprecated and will be removed from pandas in a future version. Use pandas.concat instead.\n",
      "  test_df = test_df.append(test_set)\n",
      "/tmp/ipykernel_566462/2689487206.py:28: FutureWarning: The frame.append method is deprecated and will be removed from pandas in a future version. Use pandas.concat instead.\n",
      "  train_df = train_df.append(train_set) # append subsets to the master sets\n",
      "/tmp/ipykernel_566462/2689487206.py:29: FutureWarning: The frame.append method is deprecated and will be removed from pandas in a future version. Use pandas.concat instead.\n",
      "  test_df = test_df.append(test_set)\n",
      "/tmp/ipykernel_566462/2689487206.py:28: FutureWarning: The frame.append method is deprecated and will be removed from pandas in a future version. Use pandas.concat instead.\n",
      "  train_df = train_df.append(train_set) # append subsets to the master sets\n",
      "/tmp/ipykernel_566462/2689487206.py:29: FutureWarning: The frame.append method is deprecated and will be removed from pandas in a future version. Use pandas.concat instead.\n",
      "  test_df = test_df.append(test_set)\n"
     ]
    }
   ],
   "source": [
    "from sklearn.utils import shuffle\n",
    "from nltk.corpus import stopwords\n",
    "import random\n",
    "\n",
    "# select genre to analyze\n",
    "genres = [\n",
    "    'pop', 'alt rock', 'Hip Hop',\n",
    "]\n",
    "\n",
    "LYRIC_LEN = 400 # each song has to be > 400 characters\n",
    "N = 1000\n",
    "RANDOM_SEED = 200 # random seed to make results repeatable\n",
    "\n",
    "train_df = pd.DataFrame()\n",
    "test_df = pd.DataFrame()\n",
    "\n",
    "# loop over each genre\n",
    "for gen in genres: \n",
    "    # create a subset with the correct genre and the right lenght of the song\n",
    "    subset = lyrics_by_song[  \n",
    "        (lyrics_by_song.ranker_genre==gen) & \n",
    "        (lyrics_by_song.lyric.str.len() > LYRIC_LEN)\n",
    "    ]\n",
    "    \n",
    "    # dataset creation\n",
    "    train_set = subset.sample(n=N, random_state=RANDOM_SEED, replace=True)\n",
    "    test_set = subset.drop(train_set.index)\n",
    "    train_df = train_df.append(train_set) # append subsets to the master sets\n",
    "    test_df = test_df.append(test_set)\n",
    "\n",
    "train_df = shuffle(train_df)\n",
    "test_df = shuffle(test_df)"
   ]
  },
  {
   "attachments": {},
   "cell_type": "markdown",
   "metadata": {},
   "source": [
    "Con i dataset appena creati possiamo creare due pipelines che ci forniscono due implementazione diverse del metodo NaiveBayes: nel primo caso implementiamo __CountVectorizer__ e nel secondo __TfidfVectorizer__. Il primo implementa funzionalità di analisi di frequenza dei termini all'interno delle lyrics, mentre il secondo si basa su *Term Frequency - Inverse Document Frequency*. Tale valore aumenta proporzionalmente al numero di volte che il termine è contenuto nel documento, ma cresce in maniera inversamente proporzionale con la frequenza del termine nella collezione. L'idea alla base di questo comportamento è di dare più importanza ai termini che compaiono nel documento, ma che in generale sono poco frequenti.\n",
    "\n",
    "All'interno delle pipelines sono inoltre presenti dei parametri che ci permettono di effetuare operazione di pre-processing sui dati quali: \n",
    "- rimozion di *stopwords*\n",
    "- lemmatization"
   ]
  },
  {
   "cell_type": "code",
   "execution_count": 56,
   "metadata": {},
   "outputs": [
    {
     "name": "stdout",
     "output_type": "stream",
     "text": [
      "Mean count vectorizer/Multinomial NB accuracy: 0.543 +/- 0.009\n",
      "Mean Tf-idf vectorizer/Multinomial NB accuracy: 0.561 +/- 0.015\n",
      "Best count vectorizer/Multinomial NB accuracy: 0.588\n",
      "Best count vectorizer/Multinomial NB parameters: {'vect__min_df': 2, 'vect__max_features': None, 'vect__max_df': 0.5, 'clf__alpha': 0.1}\n",
      "Best Tf-idf vectorizer/Multinomial NB accuracy: 0.600\n",
      "Best Tf-idf vectorizer/Multinomial NB parameters: {'vect__min_df': 3, 'vect__max_features': None, 'vect__max_df': 0.75, 'clf__alpha': 0.1}\n"
     ]
    }
   ],
   "source": [
    "from sklearn.naive_bayes import MultinomialNB\n",
    "from sklearn.pipeline import Pipeline\n",
    "from nltk import word_tokenize\n",
    "from nltk.stem import WordNetLemmatizer\n",
    "\n",
    "import warnings\n",
    "warnings.filterwarnings('ignore')\n",
    "\n",
    "stop = list(set(stopwords.words('english'))) # stopwords\n",
    "wnl = WordNetLemmatizer() # lemmatizer\n",
    "\n",
    "def tokenizer(x): # custom tokenizer\n",
    "    return (\n",
    "        wnl.lemmatize(w) \n",
    "        for w in word_tokenize(x) \n",
    "        if len(w) == 2 and w.isalnum() # only words that are  2 characters\n",
    "    )                                  # and is alpha-numeric\n",
    "\n",
    "\n",
    "# Define a function to create a pipeline with a count vectorizer and a Multinomial Naive Bayes classifier\n",
    "count_nb_pipeline = Pipeline([\n",
    "        ('vect', CountVectorizer(       \n",
    "        ngram_range=(1, 2), # include bigrams\n",
    "        tokenizer=tokenizer,\n",
    "        stop_words=stop,\n",
    "        max_df=0.4, # ignore terms that appear in more than 40% of documents\n",
    "        min_df=4)), # ignore terms that appear in less than 4 documents)),\n",
    "        ('clf', MultinomialNB(alpha=0.1))\n",
    "    ])\n",
    "\n",
    "# Define a function to create a pipeline with a Tf-idf vectorizer and a Multinomial Naive Bayes classifier\n",
    "tfidf_nb_pipeline = Pipeline([\n",
    "        ('vect', TfidfVectorizer(\n",
    "        ngram_range=(1, 2), # include bigrams\n",
    "        tokenizer=tokenizer,\n",
    "        stop_words=stop,\n",
    "        max_df=0.4, # ignore terms that appear in more than 40% of documents\n",
    "        min_df=4)), # ignore terms that appear in less than 4 documents\n",
    "        ('clf', MultinomialNB(alpha=0.1))\n",
    "    ])\n",
    "\n",
    "# Use cross-validation to evaluate the performance of the count vectorizer/Multinomial NB pipeline\n",
    "scores = cross_val_score(count_nb_pipeline, train_df.lyric, train_df.ranker_genre, cv=5)\n",
    "print(f\"Mean count vectorizer/Multinomial NB accuracy: {scores.mean():.3f} +/- {scores.std():.3f}\")\n",
    "\n",
    "# Use cross-validation to evaluate the performance of the Tf-idf vectorizer/Multinomial NB pipeline\n",
    "scores = cross_val_score(tfidf_nb_pipeline, train_df.lyric, train_df.ranker_genre, cv=5)\n",
    "print(f\"Mean Tf-idf vectorizer/Multinomial NB accuracy: {scores.mean():.3f} +/- {scores.std():.3f}\")\n",
    "\n",
    "# Define a parameter grid for the count vectorizer/Multinomial NB pipeline\n",
    "param_grid = {\n",
    "    'vect__max_df': [0.5, 0.75, 1.0],\n",
    "    'vect__min_df': [2, 3, 4],\n",
    "    'vect__max_features': [None, 1000, 5000],\n",
    "    'clf__alpha': [0.1, 0.5, 1.0]\n",
    "}\n",
    "\n",
    "# Use grid search to tune the hyperparameters of the count vector\n",
    "# Use randomized search to tune the hyperparameters of the count vectorizer/Multinomial NB pipeline\n",
    "random_search_count_nb_pipeline = RandomizedSearchCV(count_nb_pipeline, param_distributions=param_grid, n_iter=50, cv=5, random_state=RANDOM_SEED)\n",
    "random_search_count_nb_pipeline.fit(train_df.lyric, train_df.ranker_genre)\n",
    "print(f\"Best count vectorizer/Multinomial NB accuracy: {random_search_count_nb_pipeline.best_score_:.3f}\")\n",
    "print(f\"Best count vectorizer/Multinomial NB parameters: {random_search_count_nb_pipeline.best_params_}\")\n",
    "\n",
    "# Use randomized search to tune the hyperparameters of the Tf-idf vectorizer/Multinomial NB pipeline\n",
    "random_search_tfidf_nb_pipeline = RandomizedSearchCV(tfidf_nb_pipeline, param_distributions=param_grid, n_iter=50, cv=5, random_state=RANDOM_SEED)\n",
    "random_search_tfidf_nb_pipeline.fit(train_df.lyric, train_df.ranker_genre)\n",
    "print(f\"Best Tf-idf vectorizer/Multinomial NB accuracy: {random_search_tfidf_nb_pipeline.best_score_:.3f}\")\n",
    "print(f\"Best Tf-idf vectorizer/Multinomial NB parameters: {random_search_tfidf_nb_pipeline.best_params_}\")"
   ]
  },
  {
   "attachments": {},
   "cell_type": "markdown",
   "metadata": {},
   "source": [
    "## Visualizzazione dei risultati"
   ]
  },
  {
   "attachments": {},
   "cell_type": "markdown",
   "metadata": {},
   "source": [
    "Con i risultati ottenuti è possibile andare a comporre una matrice di confusione per poter andare a visualizzare i risultati ottenuti in maniera grafica. Questo permette di valutare in che campi le previsioni del modello tendono a sbagliare e confondere un genere per un altro."
   ]
  },
  {
   "cell_type": "code",
   "execution_count": 58,
   "metadata": {},
   "outputs": [
    {
     "data": {
      "text/plain": [
       "Text(113.9222222222222, 0.5, 'predicted label count_nb pipeline')"
      ]
     },
     "execution_count": 58,
     "metadata": {},
     "output_type": "execute_result"
    },
    {
     "data": {
      "image/png": "[encoded data removed]",
      "text/plain": [
       "<Figure size 640x480 with 1 Axes>"
      ]
     },
     "metadata": {},
     "output_type": "display_data"
    }
   ],
   "source": [
    "from sklearn.metrics import confusion_matrix\n",
    "import seaborn as sns\n",
    "import matplotlib.pyplot as plt\n",
    "\n",
    "# score our model on testing data\n",
    "predicted = random_search_count_nb_pipeline.predict(test_df.lyric)\n",
    "np.mean(predicted == test_df.ranker_genre)\n",
    "\n",
    "mat = confusion_matrix(test_df.ranker_genre, predicted)\n",
    "sns.heatmap(\n",
    "    mat.T, square=True, annot=True, fmt='d', cbar=False,\n",
    "    xticklabels=genres, \n",
    "    yticklabels=genres\n",
    ")\n",
    "plt.xlabel('true label count_nb pipeline')\n",
    "plt.ylabel('predicted label count_nb pipeline')"
   ]
  },
  {
   "cell_type": "code",
   "execution_count": 59,
   "metadata": {},
   "outputs": [
    {
     "data": {
      "text/plain": [
       "Text(113.9222222222222, 0.5, 'predicted label tfidf_nb pipeline')"
      ]
     },
     "execution_count": 59,
     "metadata": {},
     "output_type": "execute_result"
    },
    {
     "data": {
      "image/png": "[encoded data removed]",
      "text/plain": [
       "<Figure size 640x480 with 1 Axes>"
      ]
     },
     "metadata": {},
     "output_type": "display_data"
    }
   ],
   "source": [
    "predicted = random_search_tfidf_nb_pipeline.predict(test_df.lyric)\n",
    "np.mean(predicted == test_df.ranker_genre)\n",
    "\n",
    "mat = confusion_matrix(test_df.ranker_genre, predicted)\n",
    "sns.heatmap(\n",
    "    mat.T, square=True, annot=True, fmt='d', cbar=False,\n",
    "    xticklabels=genres, \n",
    "    yticklabels=genres\n",
    ")\n",
    "plt.xlabel('true label tfidf_nb pipeline')\n",
    "plt.ylabel('predicted label tfidf_nb pipeline')"
   ]
  },
  {
   "attachments": {},
   "cell_type": "markdown",
   "metadata": {},
   "source": [
    "Per concludere si rimanda in calce ai risultati relativi a:\n",
    "1. Precision: capacità di classificazione corretta degli elementi dell'insieme che sta venendo considerato;\n",
    "2. Recall: capacità di ottenimento di tutti gli elementi interessanti al fine dell'analisi;\n",
    "3. Fscore: misura di accuratezza basata dalla combinazione di *precision* e *recall*;\n",
    "\n"
   ]
  },
  {
   "cell_type": "code",
   "execution_count": 60,
   "metadata": {},
   "outputs": [
    {
     "name": "stdout",
     "output_type": "stream",
     "text": [
      "POP_precision: 0.4807844021187873\n",
      "POP_recall: 0.7852015461071231\n",
      "POP_fscore: 0.5963931217670907\n",
      "POP_support: 5433\n",
      "\n",
      "ALT ROCK_precision: 0.8347090383821708\n",
      "ALT ROCK_recall: 0.5015810031620064\n",
      "ALT ROCK_fscore: 0.6266217419929515\n",
      "ALT ROCK_support: 16129\n",
      "\n",
      "HIP HOP_precision: 0.2458001768346596\n",
      "HIP HOP_recall: 0.5229495861550038\n",
      "HIP HOP_fscore: 0.33441597497894865\n",
      "HIP HOP_support: 2658\n",
      "\n"
     ]
    }
   ],
   "source": [
    "from sklearn.metrics import precision_recall_fscore_support\n",
    "\n",
    "precision, recall, fscore, support = precision_recall_fscore_support(test_df.ranker_genre, predicted)\n",
    "\n",
    "for n,genre in enumerate(genres):\n",
    "    genre = genre.upper()\n",
    "    print(genre+'_precision: {}'.format(precision[n]))\n",
    "    print(genre+'_recall: {}'.format(recall[n]))\n",
    "    print(genre+'_fscore: {}'.format(fscore[n]))\n",
    "    print(genre+'_support: {}'.format(support[n]))\n",
    "    print()"
   ]
  },
  {
   "attachments": {},
   "cell_type": "markdown",
   "metadata": {},
   "source": [
    "## Implemntazione con Tensor Flow"
   ]
  },
  {
   "cell_type": "code",
   "execution_count": 4,
   "metadata": {},
   "outputs": [
    {
     "name": "stderr",
     "output_type": "stream",
     "text": [
      "2023-01-14 19:18:15.023069: I tensorflow/core/platform/cpu_feature_guard.cc:193] This TensorFlow binary is optimized with oneAPI Deep Neural Network Library (oneDNN) to use the following CPU instructions in performance-critical operations:  AVX2 FMA\n",
      "To enable them in other operations, rebuild TensorFlow with the appropriate compiler flags.\n",
      "2023-01-14 19:18:15.383837: W tensorflow/compiler/xla/stream_executor/platform/default/dso_loader.cc:64] Could not load dynamic library 'libcudart.so.11.0'; dlerror: libcudart.so.11.0: cannot open shared object file: No such file or directory\n",
      "2023-01-14 19:18:15.383868: I tensorflow/compiler/xla/stream_executor/cuda/cudart_stub.cc:29] Ignore above cudart dlerror if you do not have a GPU set up on your machine.\n",
      "2023-01-14 19:18:16.562322: W tensorflow/compiler/xla/stream_executor/platform/default/dso_loader.cc:64] Could not load dynamic library 'libnvinfer.so.7'; dlerror: libnvinfer.so.7: cannot open shared object file: No such file or directory\n",
      "2023-01-14 19:18:16.562546: W tensorflow/compiler/xla/stream_executor/platform/default/dso_loader.cc:64] Could not load dynamic library 'libnvinfer_plugin.so.7'; dlerror: libnvinfer_plugin.so.7: cannot open shared object file: No such file or directory\n",
      "2023-01-14 19:18:16.562558: W tensorflow/compiler/tf2tensorrt/utils/py_utils.cc:38] TF-TRT Warning: Cannot dlopen some TensorRT libraries. If you would like to use Nvidia GPU with TensorRT, please make sure the missing libraries mentioned above are installed properly.\n",
      "2023-01-14 19:18:22.899061: W tensorflow/compiler/xla/stream_executor/platform/default/dso_loader.cc:64] Could not load dynamic library 'libcuda.so.1'; dlerror: libcuda.so.1: cannot open shared object file: No such file or directory\n",
      "2023-01-14 19:18:22.899489: W tensorflow/compiler/xla/stream_executor/cuda/cuda_driver.cc:265] failed call to cuInit: UNKNOWN ERROR (303)\n",
      "2023-01-14 19:18:22.899517: I tensorflow/compiler/xla/stream_executor/cuda/cuda_diagnostics.cc:156] kernel driver does not appear to be running on this host (T14): /proc/driver/nvidia/version does not exist\n",
      "2023-01-14 19:18:22.900324: I tensorflow/core/platform/cpu_feature_guard.cc:193] This TensorFlow binary is optimized with oneAPI Deep Neural Network Library (oneDNN) to use the following CPU instructions in performance-critical operations:  AVX2 FMA\n",
      "To enable them in other operations, rebuild TensorFlow with the appropriate compiler flags.\n",
      "2023-01-14 19:18:24.546499: W tensorflow/tsl/framework/cpu_allocator_impl.cc:82] Allocation of 5590169760 exceeds 10% of free system memory.\n"
     ]
    },
    {
     "name": "stdout",
     "output_type": "stream",
     "text": [
      "Epoch 1/10\n",
      "94/94 [==============================] - 10s 105ms/step - loss: 0.5387 - accuracy: 0.7730 - val_loss: 0.4957 - val_accuracy: 0.8082\n",
      "Epoch 2/10\n",
      "94/94 [==============================] - 12s 124ms/step - loss: 0.1219 - accuracy: 0.9663 - val_loss: 0.5441 - val_accuracy: 0.8012\n",
      "Epoch 3/10\n",
      "94/94 [==============================] - 10s 111ms/step - loss: 0.0339 - accuracy: 0.9973 - val_loss: 0.6006 - val_accuracy: 0.8042\n",
      "Epoch 4/10\n",
      "94/94 [==============================] - 9s 102ms/step - loss: 0.0107 - accuracy: 1.0000 - val_loss: 0.6396 - val_accuracy: 0.8099\n",
      "Epoch 5/10\n",
      "94/94 [==============================] - 12s 127ms/step - loss: 0.0044 - accuracy: 1.0000 - val_loss: 0.6893 - val_accuracy: 0.8071\n",
      "Epoch 6/10\n",
      "94/94 [==============================] - 10s 107ms/step - loss: 0.0025 - accuracy: 1.0000 - val_loss: 0.7448 - val_accuracy: 0.8004\n",
      "Epoch 7/10\n",
      "94/94 [==============================] - 12s 125ms/step - loss: 0.0016 - accuracy: 1.0000 - val_loss: 0.7399 - val_accuracy: 0.8112\n",
      "Epoch 8/10\n",
      "94/94 [==============================] - 10s 104ms/step - loss: 0.0011 - accuracy: 1.0000 - val_loss: 0.7754 - val_accuracy: 0.8069\n",
      "Epoch 9/10\n",
      "94/94 [==============================] - 10s 103ms/step - loss: 8.4507e-04 - accuracy: 1.0000 - val_loss: 0.8108 - val_accuracy: 0.8019\n",
      "Epoch 10/10\n",
      "94/94 [==============================] - 10s 107ms/step - loss: 6.3706e-04 - accuracy: 1.0000 - val_loss: 0.8418 - val_accuracy: 0.7995\n"
     ]
    },
    {
     "data": {
      "image/png": "[encoded data removed]",
      "text/plain": [
       "<Figure size 640x480 with 1 Axes>"
      ]
     },
     "metadata": {},
     "output_type": "display_data"
    },
    {
     "name": "stdout",
     "output_type": "stream",
     "text": [
      "757/757 [==============================] - 5s 6ms/step\n",
      "Accuracy for alt rock: 0.78\n",
      "Accuracy for Hip Hop: 0.88\n",
      "Accuracy for pop: 0.74\n"
     ]
    }
   ],
   "source": [
    "from sklearn.utils import shuffle\n",
    "from sklearn.preprocessing import LabelEncoder\n",
    "from sklearn.feature_extraction.text import CountVectorizer\n",
    "from nltk.corpus import stopwords\n",
    "import tensorflow as tf\n",
    "from sklearn.preprocessing import LabelEncoder\n",
    "from tensorflow.keras.layers import Dense\n",
    "import random\n",
    "\n",
    "# Encode the labels as integers\n",
    "encoder = LabelEncoder()\n",
    "y_train = encoder.fit_transform(train_df.ranker_genre)\n",
    "y_test = encoder.transform(test_df.ranker_genre)\n",
    "\n",
    "# Vectorize the lyrics\n",
    "vectorizer = CountVectorizer()\n",
    "X_train = vectorizer.fit_transform(train_df.lyric)\n",
    "X_test = vectorizer.transform(test_df.lyric)\n",
    "\n",
    "model = tf.keras.Sequential()\n",
    "model.add(Dense(128, input_dim=X_train.shape[1], activation='relu'))\n",
    "model.add(Dense(3, activation='softmax'))\n",
    "\n",
    "model.compile(loss='sparse_categorical_crossentropy', optimizer='adam', metrics=['accuracy'])\n",
    "\n",
    "y_train_tensor = tf.convert_to_tensor(y_train)\n",
    "y_test_tensor = tf.convert_to_tensor(y_test)\n",
    "\n",
    "# Convert the vectors to a dense tensor\n",
    "X_train = tf.convert_to_tensor(X_train.todense())\n",
    "X_test = tf.convert_to_tensor(X_test.todense())\n",
    "\n",
    "\n",
    "history = model.fit(X_train, y_train_tensor, epochs=10, validation_data=(X_test, y_test_tensor))\n",
    "\n",
    "# display the data\n",
    "import matplotlib.pyplot as plt\n",
    "\n",
    "# Get the training and validation loss values\n",
    "loss = history.history['loss']\n",
    "val_loss = history.history['val_loss']\n",
    "\n",
    "# Plot the training and validation loss\n",
    "plt.plot(loss)\n",
    "plt.plot(val_loss)\n",
    "plt.title('Model loss')\n",
    "plt.ylabel('Loss')\n",
    "plt.xlabel('Epoch')\n",
    "plt.legend(['Training loss', 'Validation loss'])\n",
    "plt.show()\n",
    "\n",
    "# Get the predicted class probabilities for each sample in the test set\n",
    "probs = model.predict(X_test)\n",
    "\n",
    "# Initialize a dictionary to store the accuracy for each genre\n",
    "genre_accuracy = {}\n",
    "\n",
    "# Loop over the test samples\n",
    "for i, sample in enumerate(X_test):\n",
    "\n",
    "    # Get the true class for the sample\n",
    "    true_class = y_test[i]\n",
    "\n",
    "    # Get the predicted class for the sample\n",
    "    predicted_class = np.argmax(probs[i])\n",
    "\n",
    "    # Get the genre name for the true and predicted classes\n",
    "    true_genre = encoder.inverse_transform([true_class])[0]\n",
    "    predicted_genre = encoder.inverse_transform([predicted_class])[0]\n",
    "\n",
    "    # Update the accuracy for the true genre\n",
    "    if true_genre not in genre_accuracy:\n",
    "        genre_accuracy[true_genre] = 1 if true_genre == predicted_genre else 0\n",
    "    else:\n",
    "        genre_accuracy[true_genre] += 1 if true_genre == predicted_genre else 0\n",
    "\n",
    "# Divide the number of correctly predicted samples by the total number of samples for each genre to get the accuracy\n",
    "for genre, count in genre_accuracy.items():\n",
    "    genre_accuracy[genre] = count / test_df[test_df.ranker_genre == genre].shape[0]\n",
    "\n",
    "# Print the accuracy for each genre\n",
    "for genre, accuracy in genre_accuracy.items():\n",
    "    print(f'Accuracy for {genre}: {accuracy:.2f}')\n"
   ]
  }
 ],
 "metadata": {
  "kernelspec": {
   "display_name": "Python 3",
   "language": "python",
   "name": "python3"
  },
  "language_info": {
   "codemirror_mode": {
    "name": "ipython",
    "version": 3
   },
   "file_extension": ".py",
   "mimetype": "text/x-python",
   "name": "python",
   "nbconvert_exporter": "python",
   "pygments_lexer": "ipython3",
   "version": "3.10.7"
  },
  "orig_nbformat": 4,
  "vscode": {
   "interpreter": {
    "hash": "916dbcbb3f70747c44a77c7bcd40155683ae19c65e1c03b4aa3499c5328201f1"
   }
  }
 },
 "nbformat": 4,
 "nbformat_minor": 2
}
