{
 "cells": [
  {
   "attachments": {},
   "cell_type": "markdown",
   "metadata": {},
   "source": [
    "# Genre Prediction Based on Lyrics"
   ]
  },
  {
   "attachments": {},
   "cell_type": "markdown",
   "metadata": {},
   "source": [
    "## Introduzione\n",
    "La relazione si pone l'obiettivo di definire un predittore di genere musicale basato su lyrics (testi delle canzoni). Il dataset utilizzato è una istanza di https://tmthyjames.github.io/2018/january/Cypher/ (Cypher, https://github.com/tmthyjames/cypher). Il progetto è attualmente dismesso, ma è possibile reperire in rete alcune istanze (tipicamente da altri progetti github). Il dataset consiste in un documento in formato CSV in cui sono presenti informazioni riguardo brani musicali di vari generi: titolo, cantante, album, genere, etc. ... Su tale dataset si sviluppa l'allenamento del modello di machine learning ed i relativi test di verifica dell'apprendimento. Una volta allenata la rete neurale si proveranno ad affettuare una serie di predizioni con nuovi brani e verranno verificati i risultati.\n",
    "\n",
    "Contenuto\n",
    "- Caricamento dei Dati\n",
    "- Processamento dei dati\n",
    "- Allenamento del Modello\n",
    "- Analisi e Test\n",
    "\n",
    "#### Prerequisiti\n",
    "Una lista di librerie necessarie al corretto funzionamento del notebook:\n",
    "- pandas\n",
    "- numpy\n",
    "- sklearn\n",
    "- random"
   ]
  },
  {
   "attachments": {},
   "cell_type": "markdown",
   "metadata": {},
   "source": [
    "## Caricamento dei Dati - OK\n",
    "Per caricare i dati in formato csv all'interno del programma si utilizza pandas, in particolare il metodo __read_csv__ andando a creare un oggetto denominato dataframe. Ai fini di poter raggruppare alcuni dei sottogeneri o derivati del genere rock è stato creato un alias chiamato _alt rock_ che raggruppa: screamo, punk rock ed heavy metal."
   ]
  },
  {
   "cell_type": "code",
   "execution_count": 86,
   "metadata": {},
   "outputs": [
    {
     "name": "stderr",
     "output_type": "stream",
     "text": [
      "/tmp/ipykernel_885560/198304336.py:4: DtypeWarning: Columns (2,5,11,14) have mixed types. Specify dtype option on import or set low_memory=False.\n",
      "  df = pd.read_csv('lyrics.csv', on_bad_lines='skip')\n"
     ]
    },
    {
     "name": "stdout",
     "output_type": "stream",
     "text": [
      "<class 'pandas.core.frame.DataFrame'>\n"
     ]
    }
   ],
   "source": [
    "import pandas as pd\n",
    "import numpy as np\n",
    "\n",
    "df = pd.read_csv('lyrics.csv', on_bad_lines='skip')\n",
    "\n",
    "df['ranker_genre'] = np.where(\n",
    "    (df['ranker_genre'] == 'screamo')|\n",
    "    (df['ranker_genre'] == 'punk rock')|\n",
    "    (df['ranker_genre'] == 'heavy metal'), \n",
    "    'alt rock', \n",
    "    df['ranker_genre']\n",
    ")"
   ]
  },
  {
   "cell_type": "markdown",
   "metadata": {},
   "source": []
  },
  {
   "attachments": {},
   "cell_type": "markdown",
   "metadata": {},
   "source": [
    "In Una volta definito il dataframe si procede con il raggruppamento sulle seguenti: _song_, _year_, _album_, _genre_, _artist_, *ranker_genre*. Si applicano poi vari metodi che anticipano la seguente fase di preprocessing sui titoli delle canzoni, andando ad effettuare il lowering (transformazione da caratteri in maiuscolo in minuscolo), rimozione di caratteri non necessari e operazioni di _join_ su spazi bianchi."
   ]
  },
  {
   "cell_type": "code",
   "execution_count": 87,
   "metadata": {},
   "outputs": [
    {
     "name": "stderr",
     "output_type": "stream",
     "text": [
      "/tmp/ipykernel_885560/602755275.py:11: FutureWarning: The default value of regex will change from True to False in a future version.\n",
      "  lyrics_by_song[\"lyric\"] = lyrics_by_song['lyric'].str.replace(r'[^\\w\\s]','')\n"
     ]
    }
   ],
   "source": [
    "# group creation\n",
    "group = ['song', 'year', 'album', 'genre', 'artist', 'ranker_genre']\n",
    "\n",
    "# fixing the name of the song\n",
    "lyrics_by_song = df.sort_values(group)\\\n",
    "        .groupby(group).lyric\\\n",
    "        .apply(' '.join)\\\n",
    "        .apply(lambda x: x.lower())\\\n",
    "        .reset_index(name='lyric')\n",
    "\n",
    "lyrics_by_song[\"lyric\"] = lyrics_by_song['lyric'].str.replace(r'[^\\w\\s]','')"
   ]
  },
  {
   "attachments": {},
   "cell_type": "markdown",
   "metadata": {},
   "source": []
  },
  {
   "cell_type": "code",
   "execution_count": 85,
   "metadata": {},
   "outputs": [
    {
     "name": "stderr",
     "output_type": "stream",
     "text": [
      "/tmp/ipykernel_885560/705977847.py:23: FutureWarning: The frame.append method is deprecated and will be removed from pandas in a future version. Use pandas.concat instead.\n",
      "  train_df = train_df.append(train_set) # append subsets to the master sets\n",
      "/tmp/ipykernel_885560/705977847.py:24: FutureWarning: The frame.append method is deprecated and will be removed from pandas in a future version. Use pandas.concat instead.\n",
      "  test_df = test_df.append(test_set)\n",
      "/tmp/ipykernel_885560/705977847.py:23: FutureWarning: The frame.append method is deprecated and will be removed from pandas in a future version. Use pandas.concat instead.\n",
      "  train_df = train_df.append(train_set) # append subsets to the master sets\n",
      "/tmp/ipykernel_885560/705977847.py:24: FutureWarning: The frame.append method is deprecated and will be removed from pandas in a future version. Use pandas.concat instead.\n",
      "  test_df = test_df.append(test_set)\n",
      "/tmp/ipykernel_885560/705977847.py:23: FutureWarning: The frame.append method is deprecated and will be removed from pandas in a future version. Use pandas.concat instead.\n",
      "  train_df = train_df.append(train_set) # append subsets to the master sets\n",
      "/tmp/ipykernel_885560/705977847.py:24: FutureWarning: The frame.append method is deprecated and will be removed from pandas in a future version. Use pandas.concat instead.\n",
      "  test_df = test_df.append(test_set)\n"
     ]
    }
   ],
   "source": [
    "from sklearn.utils import shuffle\n",
    "from nltk.corpus import stopwords\n",
    "import random\n",
    "\n",
    "# select genre to analyze\n",
    "genres = [\n",
    "    'pop', 'alt rock', 'Hip Hop',\n",
    "]\n",
    "\n",
    "LYRIC_LEN = 400 # each song has to be > 400 characters\n",
    "N = random.randint(1000, 3000) # number of records to pull from each genre\n",
    "RANDOM_SEED = random.randint(200, 1000) # random seed to make results repeatable\n",
    "\n",
    "train_df = pd.DataFrame()\n",
    "test_df = pd.DataFrame()\n",
    "for genre in genres: # loop over each genre\n",
    "\n",
    "    # create a subset\n",
    "    subset = lyrics_by_song[  \n",
    "        (lyrics_by_song.ranker_genre==genre) & \n",
    "        (lyrics_by_song.lyric.str.len() > LYRIC_LEN)\n",
    "    ]\n",
    "    \n",
    "    train_set = subset.sample(n=N, random_state=RANDOM_SEED, replace=True)\n",
    "    test_set = subset.drop(train_set.index)\n",
    "    train_df = train_df.append(train_set) # append subsets to the master sets\n",
    "    test_df = test_df.append(test_set)\n",
    "    \n",
    "train_df = shuffle(train_df)\n",
    "test_df = shuffle(test_df)"
   ]
  },
  {
   "attachments": {},
   "cell_type": "markdown",
   "metadata": {},
   "source": [
    "A questo punto è necessario effettuare l'allenamento utilizzando l'analisi di frequenza and sklearn e countvectorizer. Il seconodo è un modo veloce per allenare un modello con analisi di frequenza. Successivamente andremo anche a vedere come implementare un metodo più complesso come TfidVectorizer."
   ]
  },
  {
   "cell_type": "code",
   "execution_count": 83,
   "metadata": {},
   "outputs": [
    {
     "data": {
      "text/plain": [
       "0.7990875749172556"
      ]
     },
     "execution_count": 83,
     "metadata": {},
     "output_type": "execute_result"
    }
   ],
   "source": [
    "from sklearn.feature_extraction.text import CountVectorizer\n",
    "from sklearn.naive_bayes import MultinomialNB\n",
    "from sklearn.pipeline import Pipeline\n",
    "from sklearn import *\n",
    "\n",
    "# define our model\n",
    "text_clf = Pipeline(\n",
    "    [('vect', CountVectorizer()),\n",
    "     ('clf', MultinomialNB(alpha=0.1))])\n",
    "\n",
    "# train our model on training data\n",
    "text_clf.fit(train_df.lyric, train_df.ranker_genre)  \n",
    "\n",
    "# score our model on testing data\n",
    "predicted = text_clf.predict(test_df.lyric)\n",
    "np.mean(predicted == test_df.ranker_genre)"
   ]
  },
  {
   "attachments": {},
   "cell_type": "markdown",
   "metadata": {},
   "source": [
    "Aggiunta di TfidVectorizer. Mettici una finestrella sul funzionamento di TfidVectorizer."
   ]
  },
  {
   "cell_type": "code",
   "execution_count": 69,
   "metadata": {},
   "outputs": [
    {
     "data": {
      "text/plain": [
       "0.7944288685900335"
      ]
     },
     "execution_count": 69,
     "metadata": {},
     "output_type": "execute_result"
    }
   ],
   "source": [
    "from sklearn.naive_bayes import MultinomialNB\n",
    "from sklearn.pipeline import Pipeline\n",
    "from sklearn.feature_extraction.text import TfidfTransformer, TfidfVectorizer\n",
    "\n",
    "# define our model\n",
    "text_clf = Pipeline(\n",
    "    [('vect', TfidfVectorizer()),\n",
    "     ('clf', MultinomialNB(alpha=0.1))])\n",
    "\n",
    "# train our model on training data\n",
    "text_clf.fit(train_df.lyric, train_df.ranker_genre)  \n",
    "\n",
    "# score our model on testing data\n",
    "predicted = text_clf.predict(test_df.lyric)\n",
    "np.mean(predicted == test_df.ranker_genre)"
   ]
  },
  {
   "attachments": {},
   "cell_type": "markdown",
   "metadata": {},
   "source": [
    "Ora proviamo a fare della lemmatization"
   ]
  },
  {
   "cell_type": "code",
   "execution_count": 70,
   "metadata": {},
   "outputs": [
    {
     "name": "stderr",
     "output_type": "stream",
     "text": [
      "/home/maxbubblegum/.local/lib/python3.10/site-packages/sklearn/feature_extraction/text.py:528: UserWarning: The parameter 'token_pattern' will not be used since 'tokenizer' is not None'\n",
      "  warnings.warn(\n",
      "/home/maxbubblegum/.local/lib/python3.10/site-packages/sklearn/feature_extraction/text.py:409: UserWarning: Your stop_words may be inconsistent with your preprocessing. Tokenizing the stop words generated tokens ['could', 'doe', 'ha', 'might', 'must', 'need', 'sha', 'wa', 'would'] not in stop_words.\n",
      "  warnings.warn(\n"
     ]
    },
    {
     "data": {
      "text/plain": [
       "0.907388984353803"
      ]
     },
     "execution_count": 70,
     "metadata": {},
     "output_type": "execute_result"
    }
   ],
   "source": [
    "from sklearn.naive_bayes import MultinomialNB\n",
    "from sklearn.pipeline import Pipeline\n",
    "from nltk import word_tokenize\n",
    "from nltk.stem import WordNetLemmatizer\n",
    "\n",
    "stop = list(set(stopwords.words('english'))) # stopwords\n",
    "wnl = WordNetLemmatizer() # lemmatizer\n",
    "\n",
    "def tokenizer(x): # custom tokenizer\n",
    "    return (\n",
    "        wnl.lemmatize(w) \n",
    "        for w in word_tokenize(x) \n",
    "        if len(w) > 2 and w.isalnum() # only words that are > 2 characters\n",
    "    )                                 # and is alpha-numeric\n",
    "\n",
    "# define our model\n",
    "text_clf = Pipeline(\n",
    "    [('vect', TfidfVectorizer(\n",
    "        ngram_range=(1, 2), # include bigrams\n",
    "        tokenizer=tokenizer,\n",
    "        stop_words=stop,\n",
    "        max_df=0.4, # ignore terms that appear in more than 40% of documents\n",
    "        min_df=4)), # ignore terms that appear in less than 4 documents\n",
    "     ('tfidf', TfidfTransformer()),\n",
    "     ('clf', MultinomialNB(alpha=0.1))])\n",
    "\n",
    "# train our model on training data\n",
    "text_clf.fit(train_df.lyric, train_df.ranker_genre)  \n",
    "\n",
    "# score our model on testing data\n",
    "predicted = text_clf.predict(test_df.lyric)\n",
    "np.mean(predicted == test_df.ranker_genre)"
   ]
  },
  {
   "attachments": {},
   "cell_type": "markdown",
   "metadata": {},
   "source": [
    "Vediamo la confusion matrix"
   ]
  },
  {
   "cell_type": "code",
   "execution_count": 73,
   "metadata": {},
   "outputs": [
    {
     "data": {
      "image/png": "[encoded data removed]",
      "text/plain": [
       "<Figure size 640x480 with 1 Axes>"
      ]
     },
     "metadata": {},
     "output_type": "display_data"
    }
   ],
   "source": [
    "from sklearn.metrics import confusion_matrix\n",
    "import seaborn as sns\n",
    "import matplotlib.pyplot as plt\n",
    "\n",
    "mat = confusion_matrix(test_df.ranker_genre, predicted)\n",
    "sns.heatmap(\n",
    "    mat.T, square=True, annot=True, fmt='d', cbar=False,\n",
    "    xticklabels=genres, \n",
    "    yticklabels=genres\n",
    ")\n",
    "plt.xlabel('true label')\n",
    "plt.ylabel('predicted label');"
   ]
  },
  {
   "attachments": {},
   "cell_type": "markdown",
   "metadata": {},
   "source": [
    "Breve analisi su recall, precision, fscore, partendo dalla confusion matrix:"
   ]
  },
  {
   "cell_type": "code",
   "execution_count": 74,
   "metadata": {},
   "outputs": [
    {
     "name": "stdout",
     "output_type": "stream",
     "text": [
      "POP_precision: 0.752851711026616\n",
      "POP_recall: 0.9103448275862069\n",
      "POP_fscore: 0.8241415192507805\n",
      "POP_support: 1305\n",
      "\n",
      "ALT ROCK_precision: 0.9809727538842603\n",
      "ALT ROCK_recall: 0.912929589270746\n",
      "ALT ROCK_fscore: 0.9457288613915119\n",
      "ALT ROCK_support: 9544\n",
      "\n",
      "HIP HOP_precision: 0.22110552763819097\n",
      "HIP HOP_recall: 0.6346153846153846\n",
      "HIP HOP_fscore: 0.3279503105590062\n",
      "HIP HOP_support: 208\n",
      "\n"
     ]
    }
   ],
   "source": [
    "from sklearn.metrics import precision_recall_fscore_support\n",
    "\n",
    "precision, recall, fscore, support = precision_recall_fscore_support(test_df.ranker_genre, predicted)\n",
    "\n",
    "for n,genre in enumerate(genres):\n",
    "    genre = genre.upper()\n",
    "    print(genre+'_precision: {}'.format(precision[n]))\n",
    "    print(genre+'_recall: {}'.format(recall[n]))\n",
    "    print(genre+'_fscore: {}'.format(fscore[n]))\n",
    "    print(genre+'_support: {}'.format(support[n]))\n",
    "    print()"
   ]
  },
  {
   "attachments": {},
   "cell_type": "markdown",
   "metadata": {},
   "source": [
    "Proviamo a fare una random prediction:"
   ]
  },
  {
   "cell_type": "code",
   "execution_count": 75,
   "metadata": {},
   "outputs": [
    {
     "data": {
      "text/plain": [
       "array(['alt rock', 'Hip Hop', 'pop', 'alt rock', 'alt rock', 'Hip Hop',\n",
       "       'Hip Hop', 'alt rock', 'alt rock', 'Hip Hop'], dtype='<U8')"
      ]
     },
     "execution_count": 75,
     "metadata": {},
     "output_type": "execute_result"
    }
   ],
   "source": [
    "text_clf.predict(\n",
    "    [\n",
    "        \"i stand for the red white and blue\",\n",
    "        \"flow so smooth they say i rap in cursive\", #bars *insert fire emoji*\n",
    "        \"take my heart and carve it out\",\n",
    "        \"there is no end to the madness\",\n",
    "        \"sitting on my front porch drinking sweet tea\",\n",
    "        \"sitting on my front porch sippin on cognac\",\n",
    "        \"dog died and my pick up truck wont start\",\n",
    "        \"im invisible and the drugs wont help\",\n",
    "        \"i hope you choke in your sleep thinking of me\",\n",
    "        \"i wonder what genre a song about data science and naive bayes and hyper parameters and maybe a little scatter plots would be\"\n",
    "    ]\n",
    ")"
   ]
  }
 ],
 "metadata": {
  "kernelspec": {
   "display_name": "Python 3",
   "language": "python",
   "name": "python3"
  },
  "language_info": {
   "codemirror_mode": {
    "name": "ipython",
    "version": 3
   },
   "file_extension": ".py",
   "mimetype": "text/x-python",
   "name": "python",
   "nbconvert_exporter": "python",
   "pygments_lexer": "ipython3",
   "version": "3.10.7"
  },
  "orig_nbformat": 4,
  "vscode": {
   "interpreter": {
    "hash": "916dbcbb3f70747c44a77c7bcd40155683ae19c65e1c03b4aa3499c5328201f1"
   }
  }
 },
 "nbformat": 4,
 "nbformat_minor": 2
}
