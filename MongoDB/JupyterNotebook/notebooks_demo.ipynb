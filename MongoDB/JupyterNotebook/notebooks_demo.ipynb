{
  "metadata": {
    "kernelspec": {
      "name": "python",
      "display_name": "Python (Pyodide)",
      "language": "python"
    },
    "language_info": {
      "codemirror_mode": {
        "name": "python",
        "version": 3
      },
      "file_extension": ".py",
      "mimetype": "text/x-python",
      "name": "python",
      "nbconvert_exporter": "python",
      "pygments_lexer": "ipython3",
      "version": "3.8"
    }
  },
  "nbformat_minor": 5,
  "nbformat": 4,
  "cells": [
    {
      "cell_type": "code",
      "source": "pip install pymongo",
      "metadata": {},
      "execution_count": 1,
      "outputs": [
        {
          "name": "stdout",
          "output_type": "stream",
          "text": "Requirement already satisfied: pymongo in c:\\users\\loren\\anaconda3\\lib\\site-packages (4.3.2)\n\nRequirement already satisfied: dnspython<3.0.0,>=1.16.0 in c:\\users\\loren\\anaconda3\\lib\\site-packages (from pymongo) (2.2.1)\n\nNote: you may need to restart the kernel to use updated packages.\n"
        }
      ],
      "id": "31703be3"
    },
    {
      "cell_type": "markdown",
      "source": "Una volta installata la libreria pymongo, si procede con la connessione al nostro database. Attraverso i campi: server, database, collection e index_name, ci si collega al database scelto.",
      "metadata": {},
      "id": "1a27d8a4-e24b-4987-8158-97d00b9f7f92"
    },
    {
      "cell_type": "code",
      "source": "import pymongo\nimport datetime\n\n# MongoDB Server and Database Data\nserver = \"mongodb://localhost:27017/\"\ndatabase = \"City\"\ncollection = \"City_Inspections_DB\"\nindex_name = \"date_index\"",
      "metadata": {},
      "execution_count": 2,
      "outputs": [],
      "id": "7702891d"
    },
    {
      "cell_type": "markdown",
      "source": "Di seguito la funzione con cui avviene effettivamente la connessione. Si utilizzano i dati definiti nello snippet precedente e si stabilisce una connessione con il database e la collezione di documenti selezionata.",
      "metadata": {},
      "id": "699defae-98c8-480b-baec-47931f970be5"
    },
    {
      "cell_type": "code",
      "source": "def connect():\n  myclient = pymongo.MongoClient(server)\n  mydb = myclient[database]\n  mycol = mydb[collection]\n  return mycol",
      "metadata": {},
      "execution_count": 3,
      "outputs": [],
      "id": "bf6f0a9a"
    },
    {
      "cell_type": "markdown",
      "source": "Di seguito la funzione di inserimento e aggiornamento dei dati all'interno del database. Entrambe effettuano un controllo sull'esistenza del documento su cui fare inserimento/aggiornamento, per evitare di avere duplicati o oggetti con solo due campi (in caso di update senza un documento di riferimento esistente).",
      "metadata": {},
      "id": "c7c8a953-a4b1-4e6c-b946-5abd921ec1b6"
    },
    {
      "cell_type": "code",
      "source": "def insert(mycol):\n  \n  inspection = {\"id\" : \"00000-0000-ENFO\", \"certificate_number\" : \"17041999\", \"business_name\" : \"Videogames Center\",\n  \"date\" : \"1999-4-17\", \"result\" : \"Fail\", \"sector\" : \"Videogames\", \"address\" : {\"city\" : \"Georgia\",\n  \"zip\" : \"41030\", \"street\" : \"Rue de Baptiste\", \"number\" : \"19\"}}  \n  \n  check = mycol.find({\"id\":str(inspection.get(\"id\"))}).distinct(\"id\")\n  \n  if not check:\n    mycol.insert_one(inspection)\n  else:\n    print(\"There is already this object\")\n    \n  \n\ndef update(mycol):\n  query = {\"id\":\"00000-0000-ENFO\"}\n  new_values = {\"$set\":{\"Inspector Name\":\"Lorenzo Stigliano\"}}\n\n  check = mycol.find(query).distinct(\"id\")\n  if not check:\n    print(\"There is document with the right id to be updated\")\n  else:\n    mycol.update_one(query, new_values, upsert = True)",
      "metadata": {},
      "execution_count": 4,
      "outputs": [],
      "id": "87f8d359"
    },
    {
      "cell_type": "markdown",
      "source": "Di seguito la funzione per fare indexing sul campo date, in modo da velocizzare le query che facciano un uso intesivo del campo date:",
      "metadata": {},
      "id": "f1a617ed-6acd-4700-99da-614e97d0da44"
    },
    {
      "cell_type": "code",
      "source": "def index(mycol):\n  mycol.create_index([('date', pymongo.ASCENDING )], name = index_name)",
      "metadata": {},
      "execution_count": null,
      "outputs": [],
      "id": "5654db74-308e-45a5-8b4f-19d626a0e9fe"
    },
    {
      "cell_type": "markdown",
      "source": "All'interno della prima abbiamo una interrogazione riguardo il periodo che comprende 2015-1-1 e 2015-6-30 (year-month-day) e considera tutte le ispezioni che sono risultate come \"Fail\" o \"Violation Issued\", fatte a New York a Frederick Douglass Boulevard. Il risultato è stato poi ordinato in base al nome della attività e sono stati stampati solamente i nomi delle attività.",
      "metadata": {},
      "id": "4bf27b1b"
    },
    {
      "cell_type": "markdown",
      "source": "Nella seconda interrogazione vengono invece presi gli oggetti che hanno due determinati zip code: 10030 e 11373 e si selezionano inoltre solamente quelli che hanno come settore quello della vendita ambulante di cibo. Fatto ciò si crea un gruppo con id dell'oggetto e nome dell'attività, si effettua un unwind su questo gruppo e si ordina il risultato in ordine alfabetico crescente.",
      "metadata": {},
      "id": "7d217436-b858-4ef8-b48c-0ab4a566c6fc"
    },
    {
      "cell_type": "markdown",
      "source": "Per la terza interrogazione si prendono invece gli oggetti appartenenti alla città con il seguente zip code: 11234 e si selezionano le attività che lavorano nel settore del \"Cigarette Retail Dealer\" all'interno della finestra temporale che intercorre tra il 2016-1-1 e il 2016-4-30. Di questi si crea un gruppo basato sull'id dell'oggetto, il nome della via in cui risiede l'attività e il nome stesso dell'attività. Il gruppo viene sottoposto ad una operazione di unwind che permette di effettuare infine un sort sulla somma delle attività con le caratteristiche sopra citate, per ogni via (address.street).",
      "metadata": {},
      "id": "b8059191-fc34-4606-aec2-d5d1b8e04e76"
    },
    {
      "cell_type": "markdown",
      "source": "Riguardo la quarta interrogazione si predono in considerazione 3 aree diverse e si vuole cercare, all'interno di una finestra temporale precisa (2015-1-1 e 2016-12-31) quale sia la tipologia di attività che abbia più risultati negativi (Fail o Violation Issued).",
      "metadata": {},
      "id": "6b794af0-4400-4e75-b412-64a583e7dc36"
    },
    {
      "cell_type": "code",
      "source": "def query(mycol):\n    #   ___ _        _      ___                    \n    #  | __(_)_ _ __| |_   / _ \\ _  _ ___ _ _ _  _ \n    #  | _|| | '_(_-|  _| | (_) | || / -_| '_| || |\n    #  |_| |_|_| /__/\\__|  \\__\\_\\\\_,_\\___|_|  \\_, |\n    #                                         |__/ \n    # Every inspections within 2015-1-1 and 2015-6-30, that have this two type of result: Fail or Violation Issued\n    # that are done in NEW YORK city at FREDERICK DOUGLASS BLVD. The result are sorted by business_name and only this field is displayed\n\n    print(\"First Query:\\n\")\n    result = mycol.find({\"date\" : {\"$gte\":\"2015-1-1\", \"$lte\":\"2015-6-30\"}, \"result\" : {\"$in\" : [\"Fail\", \"Violation Issued\"]}, \n                        \"$and\" : [{\"address.city\" : \"NEW YORK\"}, {\"address.street\" : \"FREDERICK DOUGLASS BLVD\"}]}).sort(\"business_name\").distinct(\"business_name\")\n\n    for x in result:\n      print(x)  \n\n    print(\"\\n------------------------------------------------------------------\\n\")\n\n    #   ___                              _      ___                            \n    #  / __|  ___   __   ___   _ _    __| |    / _ \\   _  _   ___   _ _   _  _ \n    #  \\__ \\ / -_) / _| / _ \\ | ' \\  / _` |   | (_) | | || | / -_) | '_| | || |\n    #  |___/ \\___| \\__| \\___/ |_||_| \\__,_|    \\__\\_\\  \\_,_| \\___| |_|    \\_, |\n    #                                                                     |__/ \n    # Every inspections with address.zip 10030 and 11373, that have Mobile Food Vendor - 881 as sector, grouped  by id and business_name\n    # and sorted by business_name\n\n    query = [\n      {\"$match\" : {\"address.zip\" : {\"$in\" : [10030, 11373]}}},\n      {\"$match\" : {\"sector\" : \"Mobile Food Vendor - 881\"}},\n      {\"$group\" : {\"_id\": \"$id\", \"inspected_business\": {\"$addToSet\": \"$business_name\"}}},\n      {\"$unwind\" : \"$inspected_business\"},\n      {\"$sort\": {\"inspected_business\": 1}}\n    ]\n\n    print(\"Second Query:\\n\")\n\n    result = mycol.aggregate(query)\n\n    for x in result:\n      print(x)\n    \n    print(\"\\n------------------------------------------------------------------\\n\")\n\n    #   _____ _    _        _    ___                    \n    #  |_   _| |_ (_)_ _ __| |  / _ \\ _  _ ___ _ _ _  _ \n    #    | | | ' \\| | '_/ _` | | (_) | || / -_| '_| || |\n    #    |_| |_||_|_|_| \\__,_|  \\__\\_\\\\_,_\\___|_|  \\_, |\n    #                                              |__/     \n    # query on all object with 11234 zip code, that have Cigarette Retail Dealer as sector between the 2016-1-4 and the 2016-4-30\n    # then create a group with the object id and the street of all the company inspected and make a count about how many company per street\n    # have been inspected. Finally sort the result by the count yet done\n    \n    query = [\n      {\"$match\" : {\"address.zip\" : 11234, \"sector\" : \"Cigarette Retail Dealer - 127\", \"date\" : {\"$gte\":\"2016-1-1\", \"$lte\":\"2016-4-30\"}}},\n      {\"$group\" : { \"_id\" : \"$id\", \"street_inspected\" : {\"$addToSet\" : \"$address.street\"}}},\n      {\"$unwind\" : \"$street_inspected\"},                \n      {\"$group\": {\"_id\": \"$street_inspected\", \"count\": { \"$sum\": 1}}},\n      {\"$sort\": {\"count\": 1}}\n    ]\n\n    result = mycol.aggregate(query)\n\n    print(\"Third Query:\\n\")\n\n    for x in result:\n      print(x)\n    \n    print(\"\\n------------------------------------------------------------------\\n\")\n\n    #   ___             _   _       ___                    \n    #  | _____ _  _ _ _| |_| |_    / _ \\ _  _ ___ _ _ _  _ \n    #  | _/ _ | || | '_|  _| ' \\  | (_) | || / -_| '_| || |\n    #  |_|\\___/\\_,_|_|  \\__|_||_|  \\__\\_\\\\_,_\\___|_|  \\_, |\n    #                                                 |__/     \n    # Inspect in 3 differents part of New York, between the 2015-1-1 and the 2016-12-31, which is the most sector that have more result like:\n    # - Fail\n    # - Violation Issued\n\n    query = [\n      {\"$match\" : {\"address.zip\" : {\"$in\" : [10475, 11234, 11427]}, \"result\" : {\"$in\" : [\"Fail\", \"Violation Issued\"]}, \"date\" : {\"$gte\":\"2015-1-1\", \"$lte\":\"2016-12-31\"}}},\n      {\"$group\" : { \"_id\" : \"$certificate_number\", \"sector_inspected\" : {\"$addToSet\" : '$sector'}}},\n      {\"$unwind\" : \"$sector_inspected\"},                \n      {\"$group\": {\"_id\": \"$sector_inspected\", \"count\": { \"$sum\": 1}}},\n      {'$sort': {'count': -1}},\n      {\"$group\": { \"_id\": \"$sector_inspected\", \"maxval\": { \"$first\": '$$ROOT'}}},\n      {\"$replaceWith\": \"$maxval\"} \n    ]\n\n    result = mycol.aggregate(query)\n\n    print(\"Fourth Query:\\n\")\n\n    for x in result:\n      print(x)\n    \n    print(\"\\n------------------------------------------------------------------\\n\")",
      "metadata": {},
      "execution_count": 8,
      "outputs": [],
      "id": "d60a9ed8"
    },
    {
      "cell_type": "markdown",
      "source": "Di seguito la funzione main",
      "metadata": {},
      "id": "ec8965c2"
    },
    {
      "cell_type": "code",
      "source": "def main():\n  # connect\n  print(\"Trying to connect to: \" + str(server))\n  mycol = connect()\n  print(\"OK\\n\")\n\n  # insert\n  print(\"Inserting new object inside: \" + str(collection))\n  insert(mycol)\n  print(\"OK\\n\")\n  \n  # update\n  print(\"Updating the collection: \" + str(collection))\n  update(mycol)\n  print(\"OK\\n\")\n  \n  # indexing\n  print(\"Indexing the collection: \" + str(collection) + \" with an index on \" + index_name)\n  index(mycol)\n  print(\"OK\\n\")\n\n  # query\n  print(\"Queries on collection: \" + str(collection))\n  query(mycol)\n\n  \n\nif __name__ == \"__main__\":\n  main()",
      "metadata": {},
      "execution_count": 9,
      "outputs": [
        {
          "name": "stdout",
          "output_type": "stream",
          "text": "Trying to connect to: mongodb://localhost:27017/\n\nOK\n\n\n\nInserting new object inside: City_Inspections_DB\n\nOK\n\n\n\nUpdating the collection: City_Inspections_DB\n\nOK\n\n\n\nQueries on collection: City_Inspections_DB\n\nFirst Query:\n\n\n\n148 DELI GROCERY, INC.\n\n2117 8TH AVENUE LAUNDROMAT CORP.\n\n2268 DELI & GROCERY INC.\n\nABDOU KINGS DELI INC.\n\nABREU, CATALINO\n\nANAN GOURMET DELI CORP.\n\nAPOLLO DELI & FRUIT CORP.\n\nAVON PRODUCTS, INC.\n\nAZAL GROCERY STORE INC\n\nBEST YET MARKET OF HARLEM, INC.\n\nBIER INTERNATIONAL, LLC\n\nBIG APPLE 2 DELI INC.\n\nBest Market\n\nCATALINO ABREU\n\nCJ PARK FOODS INC\n\nCMC NAIL & SPA\n\nCOUMBA DIARRA GUEYE\n\nELHADJ M BARRY\n\nEVERGREEN CLEANERS 144 ST INC.\n\nEXPRESS IVOIR - TOUBALO\n\nFELDER & SONS, INC.\n\nFINE FARE SUPERMARKET\n\nFREDERICK DOUGLAS FURNITURE\n\nL S MOBILE INC.\n\nLD BUSINESS SOLUTIONS\n\nLEGACY CLEANERS INC.\n\nLEGACY WIRELESS INC.\n\nMELO AND FALCON DELI GROCERY CORP.\n\nN&A FOOD MARKET CORP\n\nN.H.A. DELI GROCERY STORE, INC.\n\nNEW BETTY BRITE CLEANERS, INC.\n\nNYC CANDY STORE SHOP CORP\n\nPOLO GROUNDS MEAT CORP.\n\nRED LORRY YELLOW LORRY MOVING INC\n\nTHE GOLDEN SCISSORS\n\nTHE NAIL SPOT\n\nTRUE VALUE DISCOUNT LLC\n\nUNITED GOURMET GROCERY INC\n\nWEST 153 FOOD CENTER INC\n\n\n\n------------------------------------------------------------------\n\n\n\nSecond Query:\n\n\n\n{'_id': '33239-2015-ENFO', 'inspected_business': 'ABDUS KAZI'}\n\n{'_id': '33723-2015-ENFO', 'inspected_business': 'ABDUS KAZI'}\n\n{'_id': '55266-2015-ENFO', 'inspected_business': 'AHMAD WALEED'}\n\n{'_id': '31096-2015-ENFO', 'inspected_business': 'AHMED ATM FARUQUE'}\n\n{'_id': '22827-2015-ENFO', 'inspected_business': 'AHMED MOHAMED'}\n\n{'_id': '33200-2015-ENFO', 'inspected_business': 'ALI MD'}\n\n{'_id': '30022-2015-ENFO', 'inspected_business': 'ALI, SAFWAT E'}\n\n{'_id': '29725-2015-ENFO', 'inspected_business': 'ANWAR HOSSAIN'}\n\n{'_id': '61395-2015-ENFO', 'inspected_business': 'ANWAR HOSSAIN'}\n\n{'_id': '52699-2015-ENFO', 'inspected_business': 'ARAFAT RAHAMAN'}\n\n{'_id': '20754-2015-ENFO', 'inspected_business': 'BISHWANATH BISWAS'}\n\n{'_id': '9663-2015-ENFO', 'inspected_business': 'BISHWANATH BISWAS'}\n\n{'_id': '10318-2015-ENFO', 'inspected_business': 'BISHWANATH BISWAS'}\n\n{'_id': '35980-2015-ENFO', 'inspected_business': 'CECILIA HERRERA'}\n\n{'_id': '49482-2015-ENFO', 'inspected_business': 'CHITTA CHOWDHURY'}\n\n{'_id': '646-2016-ENFO', 'inspected_business': 'CHITTA CHOWDHURY'}\n\n{'_id': '31939-2015-ENFO', 'inspected_business': 'ERUBIEL VASQUEZ'}\n\n{'_id': '39561-2015-ENFO', 'inspected_business': 'EVANGELOS BARDIS'}\n\n{'_id': '30345-2015-ENFO', 'inspected_business': 'FAYSUL AHMED'}\n\n{'_id': '72083-2015-ENFO', 'inspected_business': 'GRICELDA PEREZ'}\n\n{'_id': '32082-2015-ENFO', 'inspected_business': 'GYALTSO'}\n\n{'_id': '36282-2015-ENFO', 'inspected_business': 'HABIB NAZARWAL'}\n\n{'_id': '33816-2015-ENFO', 'inspected_business': 'ISHTIAA AHMED'}\n\n{'_id': '35718-2015-ENFO', 'inspected_business': 'JUN QIANG MEI'}\n\n{'_id': '58430-2015-ENFO', 'inspected_business': 'KARMA PHUNTSOK'}\n\n{'_id': '48999-2015-ENFO', 'inspected_business': 'KAZAL SARKAR'}\n\n{'_id': '31583-2015-ENFO', 'inspected_business': 'KAZI M AMIND'}\n\n{'_id': '31399-2015-ENFO', 'inspected_business': 'KHONDOKER RAFIQ ISHAM'}\n\n{'_id': '30865-2015-ENFO', 'inspected_business': 'MAHABUBUL KHAN'}\n\n{'_id': '34405-2015-ENFO', 'inspected_business': 'MARIA CUZCO'}\n\n{'_id': '31501-2015-ENFO', 'inspected_business': 'MD ALAM'}\n\n{'_id': '37886-2015-ENFO', 'inspected_business': 'MD ALI'}\n\n{'_id': '56970-2015-ENFO', 'inspected_business': 'MD HAQUE'}\n\n{'_id': '23676-2015-ENFO', 'inspected_business': 'MD MOAZZEM HOSSAIN'}\n\n{'_id': '31102-2015-ENFO', 'inspected_business': 'MOHAMMAD O FARUQ'}\n\n{'_id': '72056-2015-ENFO', 'inspected_business': 'MOHAMMED ALI'}\n\n{'_id': '31923-2015-ENFO', 'inspected_business': 'MOSTAQUE AHMED'}\n\n{'_id': '68202-2015-ENFO', 'inspected_business': 'MOSTAQUE, AHMED'}\n\n{'_id': '32149-2015-ENFO', 'inspected_business': 'NABIL RADIF'}\n\n{'_id': '37737-2015-ENFO', 'inspected_business': 'PHUNTSOK KARMA'}\n\n{'_id': '37603-2015-ENFO', 'inspected_business': 'PRANTUSH DAS'}\n\n{'_id': '34538-2015-ENFO', 'inspected_business': 'PRANTUSH DAS'}\n\n{'_id': '31960-2015-ENFO', 'inspected_business': 'RAHMAN MD MAMUNUR'}\n\n{'_id': '31475-2015-ENFO', 'inspected_business': 'RAHMAN MD MAMUNUR'}\n\n{'_id': '31645-2015-ENFO', 'inspected_business': 'ROSA BERMEO'}\n\n{'_id': '11929-2015-CMPL', 'inspected_business': 'SAIFULI MONJU'}\n\n{'_id': '52526-2015-ENFO', 'inspected_business': 'SHAMIDUL ALARM'}\n\n{'_id': '33621-2015-ENFO', 'inspected_business': 'VINCENTA HERRERA'}\n\n{'_id': '32115-2015-ENFO', 'inspected_business': 'WESER DORJEE'}\n\n\n\n------------------------------------------------------------------\n\n\n\nSecond Query:\n\n\n\n{'_id': 'KINGS HWY', 'count': 1}\n\n{'_id': 'GLENWOOD RD', 'count': 2}\n\n{'_id': 'FLATLANDS AVE', 'count': 2}\n\n{'_id': 'AVENUE H', 'count': 2}\n\n{'_id': 'UTICA AVE', 'count': 2}\n\n{'_id': 'AVENUE N', 'count': 3}\n\n\n\n------------------------------------------------------------------\n\n\n"
        }
      ],
      "id": "8a2debf8"
    },
    {
      "cell_type": "code",
      "source": "",
      "metadata": {},
      "execution_count": null,
      "outputs": [],
      "id": "bf797ecd"
    }
  ]
}